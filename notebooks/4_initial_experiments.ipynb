{
  "nbformat": 4,
  "nbformat_minor": 0,
  "metadata": {
    "colab": {
      "provenance": []
    },
    "kernelspec": {
      "name": "python3",
      "display_name": "Python 3"
    },
    "language_info": {
      "name": "python"
    }
  },
  "cells": [
    {
      "cell_type": "code",
      "source": [
        "from google.colab import drive\n",
        "drive.mount('/content/drive')"
      ],
      "metadata": {
        "colab": {
          "base_uri": "https://localhost:8080/"
        },
        "id": "sqzh-GnzXwUT",
        "outputId": "9801378d-5dc8-472e-fc6b-6deef0184da0"
      },
      "execution_count": null,
      "outputs": [
        {
          "output_type": "stream",
          "name": "stdout",
          "text": [
            "Mounted at /content/drive\n"
          ]
        }
      ]
    },
    {
      "cell_type": "code",
      "execution_count": null,
      "metadata": {
        "id": "KbILrGTTXRGo"
      },
      "outputs": [],
      "source": [
        "import pandas as pd\n",
        "import numpy as np\n",
        "import sklearn.cluster as c\n",
        "import pickle"
      ]
    },
    {
      "cell_type": "code",
      "source": [
        "df = pd.read_csv('/content/drive/MyDrive/Univerui/0 MAGISTRAS/tiriamasis/data/clean_data_wo_outliers.csv')\n",
        "df['Nace2'] = df['Nace2'].astype(int)\n",
        "df['gr_4digits'] = df['gr_4digits'].astype(int)"
      ],
      "metadata": {
        "id": "4HyoKobNXqmR"
      },
      "execution_count": null,
      "outputs": []
    },
    {
      "cell_type": "code",
      "source": [
        "df.head()"
      ],
      "metadata": {
        "colab": {
          "base_uri": "https://localhost:8080/",
          "height": 206
        },
        "id": "fe55jFptYS3i",
        "outputId": "4cfab3ff-d10a-41f2-e5eb-128cf5e25dc4"
      },
      "execution_count": null,
      "outputs": [
        {
          "output_type": "execute_result",
          "data": {
            "text/plain": [
              "   Unnamed: 0  imones_kodas imones_pavadinimas  \\\n",
              "0           0     140891278      decopolis uab   \n",
              "1           1     133852410          dakra uab   \n",
              "2           3     304224333   mokymų erdvė uab   \n",
              "3           4     303425493       ausvitas uab   \n",
              "4           5     304869540   dizaino kalvė mb   \n",
              "\n",
              "                                    imones_aprasymas  desc_len   Nace2  \\\n",
              "0  kolektyvo padėti klientui susikurti jaukius ši...        47  477890   \n",
              "1  maketavimas spaudai internetui specialūs pasiū...         8  581900   \n",
              "2                            augti verslui asmenybei         3  855900   \n",
              "3  verslo konsultacijos struktūrinių paramos fond...        17  702200   \n",
              "4  interjerų projektavimas įrengimas baldų projek...        12  741000   \n",
              "\n",
              "   EmployeesLast gr_stat_letter gr_stat_code  gr_4digits  \n",
              "0            1.0              G          G47        4778  \n",
              "1            2.0              J          J58        5819  \n",
              "2            1.0              P          P85        8559  \n",
              "3            0.0              M          M70        7022  \n",
              "4            0.0              M          M74        7410  "
            ],
            "text/html": [
              "\n",
              "  <div id=\"df-d19aee71-377b-4144-9eec-3994fc9f09d0\" class=\"colab-df-container\">\n",
              "    <div>\n",
              "<style scoped>\n",
              "    .dataframe tbody tr th:only-of-type {\n",
              "        vertical-align: middle;\n",
              "    }\n",
              "\n",
              "    .dataframe tbody tr th {\n",
              "        vertical-align: top;\n",
              "    }\n",
              "\n",
              "    .dataframe thead th {\n",
              "        text-align: right;\n",
              "    }\n",
              "</style>\n",
              "<table border=\"1\" class=\"dataframe\">\n",
              "  <thead>\n",
              "    <tr style=\"text-align: right;\">\n",
              "      <th></th>\n",
              "      <th>Unnamed: 0</th>\n",
              "      <th>imones_kodas</th>\n",
              "      <th>imones_pavadinimas</th>\n",
              "      <th>imones_aprasymas</th>\n",
              "      <th>desc_len</th>\n",
              "      <th>Nace2</th>\n",
              "      <th>EmployeesLast</th>\n",
              "      <th>gr_stat_letter</th>\n",
              "      <th>gr_stat_code</th>\n",
              "      <th>gr_4digits</th>\n",
              "    </tr>\n",
              "  </thead>\n",
              "  <tbody>\n",
              "    <tr>\n",
              "      <th>0</th>\n",
              "      <td>0</td>\n",
              "      <td>140891278</td>\n",
              "      <td>decopolis uab</td>\n",
              "      <td>kolektyvo padėti klientui susikurti jaukius ši...</td>\n",
              "      <td>47</td>\n",
              "      <td>477890</td>\n",
              "      <td>1.0</td>\n",
              "      <td>G</td>\n",
              "      <td>G47</td>\n",
              "      <td>4778</td>\n",
              "    </tr>\n",
              "    <tr>\n",
              "      <th>1</th>\n",
              "      <td>1</td>\n",
              "      <td>133852410</td>\n",
              "      <td>dakra uab</td>\n",
              "      <td>maketavimas spaudai internetui specialūs pasiū...</td>\n",
              "      <td>8</td>\n",
              "      <td>581900</td>\n",
              "      <td>2.0</td>\n",
              "      <td>J</td>\n",
              "      <td>J58</td>\n",
              "      <td>5819</td>\n",
              "    </tr>\n",
              "    <tr>\n",
              "      <th>2</th>\n",
              "      <td>3</td>\n",
              "      <td>304224333</td>\n",
              "      <td>mokymų erdvė uab</td>\n",
              "      <td>augti verslui asmenybei</td>\n",
              "      <td>3</td>\n",
              "      <td>855900</td>\n",
              "      <td>1.0</td>\n",
              "      <td>P</td>\n",
              "      <td>P85</td>\n",
              "      <td>8559</td>\n",
              "    </tr>\n",
              "    <tr>\n",
              "      <th>3</th>\n",
              "      <td>4</td>\n",
              "      <td>303425493</td>\n",
              "      <td>ausvitas uab</td>\n",
              "      <td>verslo konsultacijos struktūrinių paramos fond...</td>\n",
              "      <td>17</td>\n",
              "      <td>702200</td>\n",
              "      <td>0.0</td>\n",
              "      <td>M</td>\n",
              "      <td>M70</td>\n",
              "      <td>7022</td>\n",
              "    </tr>\n",
              "    <tr>\n",
              "      <th>4</th>\n",
              "      <td>5</td>\n",
              "      <td>304869540</td>\n",
              "      <td>dizaino kalvė mb</td>\n",
              "      <td>interjerų projektavimas įrengimas baldų projek...</td>\n",
              "      <td>12</td>\n",
              "      <td>741000</td>\n",
              "      <td>0.0</td>\n",
              "      <td>M</td>\n",
              "      <td>M74</td>\n",
              "      <td>7410</td>\n",
              "    </tr>\n",
              "  </tbody>\n",
              "</table>\n",
              "</div>\n",
              "    <div class=\"colab-df-buttons\">\n",
              "\n",
              "  <div class=\"colab-df-container\">\n",
              "    <button class=\"colab-df-convert\" onclick=\"convertToInteractive('df-d19aee71-377b-4144-9eec-3994fc9f09d0')\"\n",
              "            title=\"Convert this dataframe to an interactive table.\"\n",
              "            style=\"display:none;\">\n",
              "\n",
              "  <svg xmlns=\"http://www.w3.org/2000/svg\" height=\"24px\" viewBox=\"0 -960 960 960\">\n",
              "    <path d=\"M120-120v-720h720v720H120Zm60-500h600v-160H180v160Zm220 220h160v-160H400v160Zm0 220h160v-160H400v160ZM180-400h160v-160H180v160Zm440 0h160v-160H620v160ZM180-180h160v-160H180v160Zm440 0h160v-160H620v160Z\"/>\n",
              "  </svg>\n",
              "    </button>\n",
              "\n",
              "  <style>\n",
              "    .colab-df-container {\n",
              "      display:flex;\n",
              "      gap: 12px;\n",
              "    }\n",
              "\n",
              "    .colab-df-convert {\n",
              "      background-color: #E8F0FE;\n",
              "      border: none;\n",
              "      border-radius: 50%;\n",
              "      cursor: pointer;\n",
              "      display: none;\n",
              "      fill: #1967D2;\n",
              "      height: 32px;\n",
              "      padding: 0 0 0 0;\n",
              "      width: 32px;\n",
              "    }\n",
              "\n",
              "    .colab-df-convert:hover {\n",
              "      background-color: #E2EBFA;\n",
              "      box-shadow: 0px 1px 2px rgba(60, 64, 67, 0.3), 0px 1px 3px 1px rgba(60, 64, 67, 0.15);\n",
              "      fill: #174EA6;\n",
              "    }\n",
              "\n",
              "    .colab-df-buttons div {\n",
              "      margin-bottom: 4px;\n",
              "    }\n",
              "\n",
              "    [theme=dark] .colab-df-convert {\n",
              "      background-color: #3B4455;\n",
              "      fill: #D2E3FC;\n",
              "    }\n",
              "\n",
              "    [theme=dark] .colab-df-convert:hover {\n",
              "      background-color: #434B5C;\n",
              "      box-shadow: 0px 1px 3px 1px rgba(0, 0, 0, 0.15);\n",
              "      filter: drop-shadow(0px 1px 2px rgba(0, 0, 0, 0.3));\n",
              "      fill: #FFFFFF;\n",
              "    }\n",
              "  </style>\n",
              "\n",
              "    <script>\n",
              "      const buttonEl =\n",
              "        document.querySelector('#df-d19aee71-377b-4144-9eec-3994fc9f09d0 button.colab-df-convert');\n",
              "      buttonEl.style.display =\n",
              "        google.colab.kernel.accessAllowed ? 'block' : 'none';\n",
              "\n",
              "      async function convertToInteractive(key) {\n",
              "        const element = document.querySelector('#df-d19aee71-377b-4144-9eec-3994fc9f09d0');\n",
              "        const dataTable =\n",
              "          await google.colab.kernel.invokeFunction('convertToInteractive',\n",
              "                                                    [key], {});\n",
              "        if (!dataTable) return;\n",
              "\n",
              "        const docLinkHtml = 'Like what you see? Visit the ' +\n",
              "          '<a target=\"_blank\" href=https://colab.research.google.com/notebooks/data_table.ipynb>data table notebook</a>'\n",
              "          + ' to learn more about interactive tables.';\n",
              "        element.innerHTML = '';\n",
              "        dataTable['output_type'] = 'display_data';\n",
              "        await google.colab.output.renderOutput(dataTable, element);\n",
              "        const docLink = document.createElement('div');\n",
              "        docLink.innerHTML = docLinkHtml;\n",
              "        element.appendChild(docLink);\n",
              "      }\n",
              "    </script>\n",
              "  </div>\n",
              "\n",
              "\n",
              "<div id=\"df-0fac319f-d317-4cfd-b01b-0f49743a08ba\">\n",
              "  <button class=\"colab-df-quickchart\" onclick=\"quickchart('df-0fac319f-d317-4cfd-b01b-0f49743a08ba')\"\n",
              "            title=\"Suggest charts\"\n",
              "            style=\"display:none;\">\n",
              "\n",
              "<svg xmlns=\"http://www.w3.org/2000/svg\" height=\"24px\"viewBox=\"0 0 24 24\"\n",
              "     width=\"24px\">\n",
              "    <g>\n",
              "        <path d=\"M19 3H5c-1.1 0-2 .9-2 2v14c0 1.1.9 2 2 2h14c1.1 0 2-.9 2-2V5c0-1.1-.9-2-2-2zM9 17H7v-7h2v7zm4 0h-2V7h2v10zm4 0h-2v-4h2v4z\"/>\n",
              "    </g>\n",
              "</svg>\n",
              "  </button>\n",
              "\n",
              "<style>\n",
              "  .colab-df-quickchart {\n",
              "      --bg-color: #E8F0FE;\n",
              "      --fill-color: #1967D2;\n",
              "      --hover-bg-color: #E2EBFA;\n",
              "      --hover-fill-color: #174EA6;\n",
              "      --disabled-fill-color: #AAA;\n",
              "      --disabled-bg-color: #DDD;\n",
              "  }\n",
              "\n",
              "  [theme=dark] .colab-df-quickchart {\n",
              "      --bg-color: #3B4455;\n",
              "      --fill-color: #D2E3FC;\n",
              "      --hover-bg-color: #434B5C;\n",
              "      --hover-fill-color: #FFFFFF;\n",
              "      --disabled-bg-color: #3B4455;\n",
              "      --disabled-fill-color: #666;\n",
              "  }\n",
              "\n",
              "  .colab-df-quickchart {\n",
              "    background-color: var(--bg-color);\n",
              "    border: none;\n",
              "    border-radius: 50%;\n",
              "    cursor: pointer;\n",
              "    display: none;\n",
              "    fill: var(--fill-color);\n",
              "    height: 32px;\n",
              "    padding: 0;\n",
              "    width: 32px;\n",
              "  }\n",
              "\n",
              "  .colab-df-quickchart:hover {\n",
              "    background-color: var(--hover-bg-color);\n",
              "    box-shadow: 0 1px 2px rgba(60, 64, 67, 0.3), 0 1px 3px 1px rgba(60, 64, 67, 0.15);\n",
              "    fill: var(--button-hover-fill-color);\n",
              "  }\n",
              "\n",
              "  .colab-df-quickchart-complete:disabled,\n",
              "  .colab-df-quickchart-complete:disabled:hover {\n",
              "    background-color: var(--disabled-bg-color);\n",
              "    fill: var(--disabled-fill-color);\n",
              "    box-shadow: none;\n",
              "  }\n",
              "\n",
              "  .colab-df-spinner {\n",
              "    border: 2px solid var(--fill-color);\n",
              "    border-color: transparent;\n",
              "    border-bottom-color: var(--fill-color);\n",
              "    animation:\n",
              "      spin 1s steps(1) infinite;\n",
              "  }\n",
              "\n",
              "  @keyframes spin {\n",
              "    0% {\n",
              "      border-color: transparent;\n",
              "      border-bottom-color: var(--fill-color);\n",
              "      border-left-color: var(--fill-color);\n",
              "    }\n",
              "    20% {\n",
              "      border-color: transparent;\n",
              "      border-left-color: var(--fill-color);\n",
              "      border-top-color: var(--fill-color);\n",
              "    }\n",
              "    30% {\n",
              "      border-color: transparent;\n",
              "      border-left-color: var(--fill-color);\n",
              "      border-top-color: var(--fill-color);\n",
              "      border-right-color: var(--fill-color);\n",
              "    }\n",
              "    40% {\n",
              "      border-color: transparent;\n",
              "      border-right-color: var(--fill-color);\n",
              "      border-top-color: var(--fill-color);\n",
              "    }\n",
              "    60% {\n",
              "      border-color: transparent;\n",
              "      border-right-color: var(--fill-color);\n",
              "    }\n",
              "    80% {\n",
              "      border-color: transparent;\n",
              "      border-right-color: var(--fill-color);\n",
              "      border-bottom-color: var(--fill-color);\n",
              "    }\n",
              "    90% {\n",
              "      border-color: transparent;\n",
              "      border-bottom-color: var(--fill-color);\n",
              "    }\n",
              "  }\n",
              "</style>\n",
              "\n",
              "  <script>\n",
              "    async function quickchart(key) {\n",
              "      const quickchartButtonEl =\n",
              "        document.querySelector('#' + key + ' button');\n",
              "      quickchartButtonEl.disabled = true;  // To prevent multiple clicks.\n",
              "      quickchartButtonEl.classList.add('colab-df-spinner');\n",
              "      try {\n",
              "        const charts = await google.colab.kernel.invokeFunction(\n",
              "            'suggestCharts', [key], {});\n",
              "      } catch (error) {\n",
              "        console.error('Error during call to suggestCharts:', error);\n",
              "      }\n",
              "      quickchartButtonEl.classList.remove('colab-df-spinner');\n",
              "      quickchartButtonEl.classList.add('colab-df-quickchart-complete');\n",
              "    }\n",
              "    (() => {\n",
              "      let quickchartButtonEl =\n",
              "        document.querySelector('#df-0fac319f-d317-4cfd-b01b-0f49743a08ba button');\n",
              "      quickchartButtonEl.style.display =\n",
              "        google.colab.kernel.accessAllowed ? 'block' : 'none';\n",
              "    })();\n",
              "  </script>\n",
              "</div>\n",
              "\n",
              "    </div>\n",
              "  </div>\n"
            ],
            "application/vnd.google.colaboratory.intrinsic+json": {
              "type": "dataframe",
              "variable_name": "df",
              "summary": "{\n  \"name\": \"df\",\n  \"rows\": 28021,\n  \"fields\": [\n    {\n      \"column\": \"Unnamed: 0\",\n      \"properties\": {\n        \"dtype\": \"number\",\n        \"std\": 9197,\n        \"min\": 0,\n        \"max\": 31834,\n        \"num_unique_values\": 28021,\n        \"samples\": [\n          8891,\n          6257,\n          29217\n        ],\n        \"semantic_type\": \"\",\n        \"description\": \"\"\n      }\n    },\n    {\n      \"column\": \"imones_kodas\",\n      \"properties\": {\n        \"dtype\": \"number\",\n        \"std\": 78080616,\n        \"min\": 110005648,\n        \"max\": 306297885,\n        \"num_unique_values\": 27972,\n        \"samples\": [\n          135234576,\n          300145778,\n          300058191\n        ],\n        \"semantic_type\": \"\",\n        \"description\": \"\"\n      }\n    },\n    {\n      \"column\": \"imones_pavadinimas\",\n      \"properties\": {\n        \"dtype\": \"string\",\n        \"num_unique_values\": 27958,\n        \"samples\": [\n          \"juda nt mb\",\n          \"vilimeksas uab\",\n          \"\\u017eieduva uab\"\n        ],\n        \"semantic_type\": \"\",\n        \"description\": \"\"\n      }\n    },\n    {\n      \"column\": \"imones_aprasymas\",\n      \"properties\": {\n        \"dtype\": \"string\",\n        \"num_unique_values\": 26663,\n        \"samples\": [\n          \"stomatologijos klinika dant\\u0173 gydymas protezavimas rentgenas dant\\u0173 nuotraukos traukimas\",\n          \"vandentiekio nuotek\\u0173 sisteos ontavias katilini\\u0173 ontavias prie\\u017ei\\u016bra\",\n          \"rinkoje klientai nam\\u0173 valdos interjero dizaineriai elektros instaliacijos montavimo gerbiame malonumu dideliais ma\\u017eais intensyvius darbo dinami\\u0161koje rinkoje atrinkome sukomplektavome patikim\\u0173 gamini\\u0173 portfel\\u012f pilnus sprendimus atskirus gaminius sprendimus interjero eksterjero dizaino id\\u0117joms realizuoti dizaineriais architektais konstruktoriais konsultuojame montavimo darbus respublikos teritorijoje id\\u0117j\\u0105 kreipkit\\u0117s\"\n        ],\n        \"semantic_type\": \"\",\n        \"description\": \"\"\n      }\n    },\n    {\n      \"column\": \"desc_len\",\n      \"properties\": {\n        \"dtype\": \"number\",\n        \"std\": 20,\n        \"min\": 3,\n        \"max\": 100,\n        \"num_unique_values\": 98,\n        \"samples\": [\n          77,\n          61,\n          94\n        ],\n        \"semantic_type\": \"\",\n        \"description\": \"\"\n      }\n    },\n    {\n      \"column\": \"Nace2\",\n      \"properties\": {\n        \"dtype\": \"number\",\n        \"std\": 218138,\n        \"min\": 11100,\n        \"max\": 999900,\n        \"num_unique_values\": 769,\n        \"samples\": [\n          479920,\n          931300,\n          331700\n        ],\n        \"semantic_type\": \"\",\n        \"description\": \"\"\n      }\n    },\n    {\n      \"column\": \"EmployeesLast\",\n      \"properties\": {\n        \"dtype\": \"number\",\n        \"std\": 145.93272105852054,\n        \"min\": 0.0,\n        \"max\": 11415.0,\n        \"num_unique_values\": 520,\n        \"samples\": [\n          129.0,\n          141.0,\n          35.0\n        ],\n        \"semantic_type\": \"\",\n        \"description\": \"\"\n      }\n    },\n    {\n      \"column\": \"gr_stat_letter\",\n      \"properties\": {\n        \"dtype\": \"category\",\n        \"num_unique_values\": 20,\n        \"samples\": [\n          \"G\",\n          \"O\",\n          \"D\"\n        ],\n        \"semantic_type\": \"\",\n        \"description\": \"\"\n      }\n    },\n    {\n      \"column\": \"gr_stat_code\",\n      \"properties\": {\n        \"dtype\": \"category\",\n        \"num_unique_values\": 82,\n        \"samples\": [\n          \"Q88\",\n          \"G47\",\n          \"C10\"\n        ],\n        \"semantic_type\": \"\",\n        \"description\": \"\"\n      }\n    },\n    {\n      \"column\": \"gr_4digits\",\n      \"properties\": {\n        \"dtype\": \"number\",\n        \"std\": 2181,\n        \"min\": 13,\n        \"max\": 9999,\n        \"num_unique_values\": 595,\n        \"samples\": [\n          2454,\n          4743,\n          3523\n        ],\n        \"semantic_type\": \"\",\n        \"description\": \"\"\n      }\n    }\n  ]\n}"
            }
          },
          "metadata": {},
          "execution_count": 6
        }
      ]
    },
    {
      "cell_type": "code",
      "source": [
        "print(f\"Full Nace2 Code Unique Values: {df['Nace2'].nunique()}\")\n",
        "print(f\"Grp letter Nace2 Code Unique Values: {df['gr_stat_letter'].nunique()}\")\n",
        "print(f\"Grp. stat coded Nace2 Code Unique Values: {df['gr_stat_code'].nunique()}\")\n",
        "print(f\"4 Digits Nace2 Code Unique Values: {df['gr_4digits'].nunique()}\")"
      ],
      "metadata": {
        "colab": {
          "base_uri": "https://localhost:8080/"
        },
        "id": "4XmbFkChZMea",
        "outputId": "f1871e6d-da5c-49f5-c3f5-23c1e022b506"
      },
      "execution_count": null,
      "outputs": [
        {
          "output_type": "stream",
          "name": "stdout",
          "text": [
            "Full Nace2 Code Unique Values: 769\n",
            "Grp letter Nace2 Code Unique Values: 20\n",
            "Grp. stat coded Nace2 Code Unique Values: 82\n",
            "4 Digits Nace2 Code Unique Values: 595\n"
          ]
        }
      ]
    },
    {
      "cell_type": "code",
      "source": [
        "n_clusters_to_pred = [20, 82, 595, 769]"
      ],
      "metadata": {
        "id": "qGaBM5QPjkkd"
      },
      "execution_count": null,
      "outputs": []
    },
    {
      "cell_type": "markdown",
      "source": [
        "# Loading datasets"
      ],
      "metadata": {
        "id": "IMbug3wTem96"
      }
    },
    {
      "cell_type": "code",
      "source": [
        "ae_bert = pd.read_csv('/content/drive/MyDrive/Univerui/0 MAGISTRAS/tiriamasis/FeatureSelection/AE/bert_ae_embeddings.csv')\n",
        "ae_labse = pd.read_csv('/content/drive/MyDrive/Univerui/0 MAGISTRAS/tiriamasis/FeatureSelection/AE/labse_ae_embeddings.csv')\n",
        "ae_w2v = pd.read_csv('/content/drive/MyDrive/Univerui/0 MAGISTRAS/tiriamasis/FeatureSelection/AE/w2v_ae_embeddings.csv')\n",
        "\n",
        "pca_bert = pd.read_csv('/content/drive/MyDrive/Univerui/0 MAGISTRAS/tiriamasis/FeatureSelection/PCA/bert_pca_embeddings.csv')\n",
        "pca_labse = pd.read_csv('/content/drive/MyDrive/Univerui/0 MAGISTRAS/tiriamasis/FeatureSelection/PCA/labse_pca_embeddings.csv')\n",
        "pca_w2v = pd.read_csv('/content/drive/MyDrive/Univerui/0 MAGISTRAS/tiriamasis/FeatureSelection/PCA/w2v_pca_embeddings.csv')\n",
        "\n",
        "svd_bert = pd.read_csv('/content/drive/MyDrive/Univerui/0 MAGISTRAS/tiriamasis/FeatureSelection/SVD/bert_svd_embeddings.csv')\n",
        "svd_labse = pd.read_csv('/content/drive/MyDrive/Univerui/0 MAGISTRAS/tiriamasis/FeatureSelection/SVD/labse_svd_embeddings.csv')\n",
        "svd_w2v = pd.read_csv('/content/drive/MyDrive/Univerui/0 MAGISTRAS/tiriamasis/FeatureSelection/SVD/w2v_svd_embeddings.csv')\n",
        "\n",
        "umap_bert = pd.read_csv('/content/drive/MyDrive/Univerui/0 MAGISTRAS/tiriamasis/FeatureSelection/UMAP/bert_umap_embeddings.csv')\n",
        "umap_labse = pd.read_csv('/content/drive/MyDrive/Univerui/0 MAGISTRAS/tiriamasis/FeatureSelection/UMAP/labse_umap_embeddings.csv')\n",
        "umap_w2v = pd.read_csv('/content/drive/MyDrive/Univerui/0 MAGISTRAS/tiriamasis/FeatureSelection/UMAP/w2v_umap_embeddings.csv')\n",
        "\n",
        "datasets = [ae_bert, ae_labse, ae_w2v, pca_bert, pca_labse, pca_w2v,\n",
        "            svd_bert, svd_labse, svd_w2v, umap_bert, umap_labse, umap_w2v]\n",
        "dataset_names = ['AutoEncoder BERT', 'AutoEncoder LaBSE', 'AutoEncoder W2V',\n",
        "                 'PCA BERT', 'PCA LaBSE', 'PCA W2V',\n",
        "                 'SVD BERT', 'SVD LaBSE', 'SVD W2V',\n",
        "                 'UMAP BERT', 'UMAP LaBSE', 'UMAP W2V']"
      ],
      "metadata": {
        "id": "d0laKxK5dQAb"
      },
      "execution_count": null,
      "outputs": []
    },
    {
      "cell_type": "code",
      "source": [
        "for dataset, dataset_name in zip(datasets, dataset_names):\n",
        "  zeroes = dataset.columns[(dataset == 0).all()]\n",
        "  if np.any(zeroes):\n",
        "    print(f\"{dataset_name} has zeros columns\", end=' | ')\n",
        "    print(f\"Dropping zero columns\", end=' | ')\n",
        "    dataset.drop(zeroes, axis=1, inplace=True)\n",
        "    print(f\"Zero columns dropped\")"
      ],
      "metadata": {
        "colab": {
          "base_uri": "https://localhost:8080/"
        },
        "id": "eOUOFOiDdVcl",
        "outputId": "d5961d84-b0dc-48a7-c37a-5452973ebb2e"
      },
      "execution_count": null,
      "outputs": [
        {
          "output_type": "stream",
          "name": "stdout",
          "text": [
            "AutoEncoder BERT has zeros columns | Dropping zero columns | Zero columns dropped\n",
            "AutoEncoder LaBSE has zeros columns | Dropping zero columns | Zero columns dropped\n",
            "AutoEncoder W2V has zeros columns | Dropping zero columns | Zero columns dropped\n"
          ]
        }
      ]
    },
    {
      "cell_type": "markdown",
      "source": [
        "# Clustering"
      ],
      "metadata": {
        "id": "dvJnYIUlcCiV"
      }
    },
    {
      "cell_type": "code",
      "source": [
        "PATH = '/content/drive/MyDrive/Univerui/0 MAGISTRAS/tiriamasis/clustering_outputs/'"
      ],
      "metadata": {
        "id": "Raj1dUvxldzs"
      },
      "execution_count": null,
      "outputs": []
    },
    {
      "cell_type": "markdown",
      "source": [
        "## K-Means"
      ],
      "metadata": {
        "id": "5OBsnfjzcHoC"
      }
    },
    {
      "cell_type": "code",
      "source": [
        "for _n_clusters in n_clusters_to_pred:\n",
        "  print(f\"Experiments with {_n_clusters}\")\n",
        "  results = pd.DataFrame()\n",
        "  for dataset, name in zip(datasets, dataset_names):\n",
        "    print(f\"\\tRunning {name} dataset\")\n",
        "    # Running clustering\n",
        "    model = c.KMeans(n_clusters=_n_clusters, n_init='auto')\n",
        "    preds = model.fit_predict(dataset.to_numpy())\n",
        "\n",
        "    # Saving preds\n",
        "    n = name.lower().replace(' ', '_')\n",
        "    results[n] = preds\n",
        "\n",
        "    # Saving clustering model\n",
        "    with open(f\"{PATH}models/kmeans/{n}_{_n_clusters}.pkl\", \"wb\") as f:\n",
        "      pickle.dump(model, f)\n",
        "  results.to_csv(PATH+'kmeans_'+str(_n_clusters)+'.csv', index=False)\n"
      ],
      "metadata": {
        "colab": {
          "base_uri": "https://localhost:8080/"
        },
        "id": "NrEt4MRIjbZJ",
        "outputId": "9d9a3508-71f4-46fe-c825-37556231ad26"
      },
      "execution_count": null,
      "outputs": [
        {
          "output_type": "stream",
          "name": "stdout",
          "text": [
            "Experiments with 20\n",
            "\tRunning AutoEncoder BERT dataset\n",
            "\tRunning AutoEncoder LaBSE dataset\n",
            "\tRunning AutoEncoder W2V dataset\n",
            "\tRunning PCA BERT dataset\n",
            "\tRunning PCA LaBSE dataset\n",
            "\tRunning PCA W2V dataset\n",
            "\tRunning SVD BERT dataset\n",
            "\tRunning SVD LaBSE dataset\n",
            "\tRunning SVD W2V dataset\n",
            "\tRunning UMAP BERT dataset\n",
            "\tRunning UMAP LaBSE dataset\n",
            "\tRunning UMAP W2V dataset\n",
            "Experiments with 82\n",
            "\tRunning AutoEncoder BERT dataset\n",
            "\tRunning AutoEncoder LaBSE dataset\n",
            "\tRunning AutoEncoder W2V dataset\n",
            "\tRunning PCA BERT dataset\n",
            "\tRunning PCA LaBSE dataset\n",
            "\tRunning PCA W2V dataset\n",
            "\tRunning SVD BERT dataset\n",
            "\tRunning SVD LaBSE dataset\n",
            "\tRunning SVD W2V dataset\n",
            "\tRunning UMAP BERT dataset\n",
            "\tRunning UMAP LaBSE dataset\n",
            "\tRunning UMAP W2V dataset\n",
            "Experiments with 595\n",
            "\tRunning AutoEncoder BERT dataset\n",
            "\tRunning AutoEncoder LaBSE dataset\n",
            "\tRunning AutoEncoder W2V dataset\n",
            "\tRunning PCA BERT dataset\n",
            "\tRunning PCA LaBSE dataset\n",
            "\tRunning PCA W2V dataset\n",
            "\tRunning SVD BERT dataset\n",
            "\tRunning SVD LaBSE dataset\n",
            "\tRunning SVD W2V dataset\n",
            "\tRunning UMAP BERT dataset\n",
            "\tRunning UMAP LaBSE dataset\n",
            "\tRunning UMAP W2V dataset\n",
            "Experiments with 769\n",
            "\tRunning AutoEncoder BERT dataset\n",
            "\tRunning AutoEncoder LaBSE dataset\n",
            "\tRunning AutoEncoder W2V dataset\n",
            "\tRunning PCA BERT dataset\n",
            "\tRunning PCA LaBSE dataset\n",
            "\tRunning PCA W2V dataset\n",
            "\tRunning SVD BERT dataset\n",
            "\tRunning SVD LaBSE dataset\n",
            "\tRunning SVD W2V dataset\n",
            "\tRunning UMAP BERT dataset\n",
            "\tRunning UMAP LaBSE dataset\n",
            "\tRunning UMAP W2V dataset\n"
          ]
        }
      ]
    },
    {
      "cell_type": "markdown",
      "source": [
        "## DBSCAN (Better to use OPTIC, it's a successor and does not require to find epsilon)"
      ],
      "metadata": {
        "id": "Lyrrp0yBcIey"
      }
    },
    {
      "cell_type": "markdown",
      "source": [
        "https://www.analyticsvidhya.com/blog/2020/09/how-dbscan-clustering-works/?utm_source=reading_list&utm_medium=https://www.analyticsvidhya.com/blog/2016/11/an-introduction-to-clustering-and-different-methods-of-clustering/\n"
      ],
      "metadata": {
        "id": "xJJ9ZhN9AFkz"
      }
    },
    {
      "cell_type": "code",
      "source": [
        "from sklearn.preprocessing import MinMaxScaler"
      ],
      "metadata": {
        "id": "bS9xA6AtCDDA"
      },
      "execution_count": null,
      "outputs": []
    },
    {
      "cell_type": "code",
      "source": [
        "results = {}\n",
        "for dataset, name in zip(datasets, dataset_names):\n",
        "  print(f\"\\tRunning {name} dataset\")\n",
        "  model = c.AffinityPropagation().fit(dataset.to_numpy())\n",
        "\n",
        "  n = name.lower().replace(' ', '_')\n",
        "  results[n] = {\n",
        "      'preds': model.labels_,\n",
        "      'centers': model.cluster_centers_indices_\n",
        "  }\n",
        "\n",
        "  with open(f\"{PATH}models/affinity_propogation/{n}.pkl\", \"wb\") as f:\n",
        "      pickle.dump(model, f)\n",
        "\n",
        "  with open(PATH+'affinity_propogation_results.pkl', 'wb') as file_pi:\n",
        "      pickle.dump(results, file_pi)"
      ],
      "metadata": {
        "id": "_KE34DrUxl7N"
      },
      "execution_count": null,
      "outputs": []
    },
    {
      "cell_type": "markdown",
      "source": [
        "## HDBSCAN"
      ],
      "metadata": {
        "id": "STJRlUfAcMD-"
      }
    },
    {
      "cell_type": "code",
      "source": [
        "results = {}\n",
        "for dataset, name in zip(datasets, dataset_names):\n",
        "  print(f\"\\tRunning {name} dataset\")\n",
        "  model = c.HDBSCAN().fit(dataset.to_numpy())\n",
        "\n",
        "  n = name.lower().replace(' ', '_')\n",
        "  results[n] = model.labels_\n",
        "\n",
        "  with open(f\"{PATH}models/hdbscan/{n}.pkl\", \"wb\") as f:\n",
        "      pickle.dump(model, f)\n",
        "\n",
        "  with open(PATH+'hdbscan_results.pkl', 'wb') as file_pi:\n",
        "      pickle.dump(results, file_pi)"
      ],
      "metadata": {
        "id": "jUOS5uuDcoAo",
        "colab": {
          "base_uri": "https://localhost:8080/"
        },
        "outputId": "e61c3456-57ba-4a07-cdf9-87567f87d778"
      },
      "execution_count": null,
      "outputs": [
        {
          "output_type": "stream",
          "name": "stdout",
          "text": [
            "\tRunning AutoEncoder BERT dataset\n",
            "\tRunning AutoEncoder LaBSE dataset\n",
            "\tRunning AutoEncoder W2V dataset\n",
            "\tRunning PCA BERT dataset\n",
            "\tRunning PCA LaBSE dataset\n",
            "\tRunning PCA W2V dataset\n",
            "\tRunning SVD BERT dataset\n",
            "\tRunning SVD LaBSE dataset\n",
            "\tRunning SVD W2V dataset\n",
            "\tRunning UMAP BERT dataset\n",
            "\tRunning UMAP LaBSE dataset\n",
            "\tRunning UMAP W2V dataset\n"
          ]
        }
      ]
    },
    {
      "cell_type": "markdown",
      "source": [
        "## GMM"
      ],
      "metadata": {
        "id": "HRsZrQGjcMjL"
      }
    },
    {
      "cell_type": "code",
      "source": [
        "from sklearn.mixture import GaussianMixture"
      ],
      "metadata": {
        "id": "o5R0apgy-FEL"
      },
      "execution_count": null,
      "outputs": []
    },
    {
      "cell_type": "code",
      "source": [
        "for _n_clusters in n_clusters_to_pred:\n",
        "  print(f\"Experiments with {_n_clusters}\")\n",
        "  results = {}\n",
        "  for dataset, name in zip(datasets, dataset_names):\n",
        "    print(f\"\\tRunning {name} dataset\")\n",
        "    # Running clustering\n",
        "    model = GaussianMixture(n_components=_n_clusters, random_state=0)\n",
        "\n",
        "    # Saving preds\n",
        "    n = name.lower().replace(' ', '_')\n",
        "    results[n] = {\n",
        "        'preds': model.fit_predict(dataset.to_numpy()),\n",
        "        'probs': model.predict_proba(dataset.to_numpy()),\n",
        "    }\n",
        "\n",
        "    # Saving clustering model\n",
        "    with open(f\"{PATH}models/gmm/{n}_{_n_clusters}.pkl\", \"wb\") as f:\n",
        "      pickle.dump(model, f)\n",
        "  with open(PATH+'gmm_'+str(_n_clusters)+'.pkl', 'wb') as file_pi:\n",
        "      pickle.dump(results, file_pi)\n"
      ],
      "metadata": {
        "id": "S84m22oTcodW",
        "colab": {
          "base_uri": "https://localhost:8080/"
        },
        "outputId": "099faee1-1303-444e-da63-dd6970d85c06"
      },
      "execution_count": null,
      "outputs": [
        {
          "output_type": "stream",
          "name": "stdout",
          "text": [
            "Experiments with 20\n",
            "\tRunning AutoEncoder BERT dataset\n",
            "\tRunning AutoEncoder LaBSE dataset\n",
            "\tRunning AutoEncoder W2V dataset\n",
            "\tRunning PCA BERT dataset\n",
            "\tRunning PCA LaBSE dataset\n",
            "\tRunning PCA W2V dataset\n",
            "\tRunning SVD BERT dataset\n",
            "\tRunning SVD LaBSE dataset\n",
            "\tRunning SVD W2V dataset\n",
            "\tRunning UMAP BERT dataset\n",
            "\tRunning UMAP LaBSE dataset\n",
            "\tRunning UMAP W2V dataset\n",
            "Experiments with 82\n",
            "\tRunning AutoEncoder BERT dataset\n",
            "\tRunning AutoEncoder LaBSE dataset\n",
            "\tRunning AutoEncoder W2V dataset\n",
            "\tRunning PCA BERT dataset\n",
            "\tRunning PCA LaBSE dataset\n",
            "\tRunning PCA W2V dataset\n",
            "\tRunning SVD BERT dataset\n",
            "\tRunning SVD LaBSE dataset\n",
            "\tRunning SVD W2V dataset\n",
            "\tRunning UMAP BERT dataset\n",
            "\tRunning UMAP LaBSE dataset\n",
            "\tRunning UMAP W2V dataset\n",
            "Experiments with 595\n",
            "\tRunning AutoEncoder BERT dataset\n",
            "\tRunning AutoEncoder LaBSE dataset\n",
            "\tRunning AutoEncoder W2V dataset\n",
            "\tRunning PCA BERT dataset\n",
            "\tRunning PCA LaBSE dataset\n",
            "\tRunning PCA W2V dataset\n",
            "\tRunning SVD BERT dataset\n",
            "\tRunning SVD LaBSE dataset\n",
            "\tRunning SVD W2V dataset\n",
            "\tRunning UMAP BERT dataset\n",
            "\tRunning UMAP LaBSE dataset\n",
            "\tRunning UMAP W2V dataset\n",
            "Experiments with 769\n",
            "\tRunning AutoEncoder BERT dataset\n",
            "\tRunning AutoEncoder LaBSE dataset\n",
            "\tRunning AutoEncoder W2V dataset\n",
            "\tRunning PCA BERT dataset\n",
            "\tRunning PCA LaBSE dataset\n",
            "\tRunning PCA W2V dataset\n",
            "\tRunning SVD BERT dataset\n",
            "\tRunning SVD LaBSE dataset\n",
            "\tRunning SVD W2V dataset\n",
            "\tRunning UMAP BERT dataset\n",
            "\tRunning UMAP LaBSE dataset\n",
            "\tRunning UMAP W2V dataset\n"
          ]
        }
      ]
    },
    {
      "cell_type": "markdown",
      "source": [
        "## BIRCH"
      ],
      "metadata": {
        "id": "lbm4YOArcMhL"
      }
    },
    {
      "cell_type": "code",
      "source": [
        "results = {}\n",
        "for dataset, name in zip(datasets, dataset_names):\n",
        "  print(f\"\\tRunning {name} dataset\")\n",
        "  model = c.Birch(branching_factor = 50, n_clusters = None, threshold = 1.5).fit(dataset.to_numpy())\n",
        "\n",
        "  n = name.lower().replace(' ', '_')\n",
        "  results[n] = model.predict(dataset.to_numpy())\n",
        "\n",
        "  with open(f\"{PATH}models/birch/{n}.pkl\", \"wb\") as f:\n",
        "      pickle.dump(model, f)\n",
        "\n",
        "  with open(PATH+'birch_results.pkl', 'wb') as file_pi:\n",
        "      pickle.dump(results, file_pi)"
      ],
      "metadata": {
        "id": "65iHUQ-kco-g",
        "colab": {
          "base_uri": "https://localhost:8080/"
        },
        "outputId": "0384438e-a391-498c-bf03-24404813bbd8"
      },
      "execution_count": null,
      "outputs": [
        {
          "output_type": "stream",
          "name": "stdout",
          "text": [
            "\tRunning AutoEncoder BERT dataset\n",
            "\tRunning AutoEncoder LaBSE dataset\n",
            "\tRunning AutoEncoder W2V dataset\n",
            "\tRunning PCA BERT dataset\n",
            "\tRunning PCA LaBSE dataset\n",
            "\tRunning PCA W2V dataset\n",
            "\tRunning SVD BERT dataset\n",
            "\tRunning SVD LaBSE dataset\n",
            "\tRunning SVD W2V dataset\n",
            "\tRunning UMAP BERT dataset\n",
            "\tRunning UMAP LaBSE dataset\n",
            "\tRunning UMAP W2V dataset\n"
          ]
        }
      ]
    },
    {
      "cell_type": "markdown",
      "source": [
        "## Affinity Propogation (NOT USED, REQUIRES TOO MUCH RAM)"
      ],
      "metadata": {
        "id": "aQYgvzj1cMe8"
      }
    },
    {
      "cell_type": "code",
      "source": [
        "results = {}\n",
        "for dataset, name in zip(datasets, dataset_names):\n",
        "  print(f\"\\tRunning {name} dataset\")\n",
        "  model = c.AffinityPropagation().fit(dataset.to_numpy())\n",
        "\n",
        "  n = name.lower().replace(' ', '_')\n",
        "  results[n] = {\n",
        "      'preds': model.labels_,\n",
        "      'centers': model.cluster_centers_indices_\n",
        "  }\n",
        "\n",
        "  with open(f\"{PATH}models/affinity_propogation/{n}.pkl\", \"wb\") as f:\n",
        "      pickle.dump(model, f)\n",
        "\n",
        "  with open(PATH+'affinity_propogation_results.pkl', 'wb') as file_pi:\n",
        "      pickle.dump(results, file_pi)"
      ],
      "metadata": {
        "colab": {
          "base_uri": "https://localhost:8080/"
        },
        "id": "IMebW32QcpWa",
        "outputId": "de2b4ba9-662c-48a8-b727-085e563fb018"
      },
      "execution_count": null,
      "outputs": [
        {
          "output_type": "stream",
          "name": "stdout",
          "text": [
            "\tRunning AutoEncoder BERT dataset\n"
          ]
        }
      ]
    },
    {
      "cell_type": "markdown",
      "source": [
        "## Mean Shift"
      ],
      "metadata": {
        "id": "VZAmIWClcMcv"
      }
    },
    {
      "cell_type": "code",
      "source": [
        "results = {}\n",
        "for dataset, name in zip(datasets, dataset_names):\n",
        "  print(f\"\\tRunning {name} dataset\")\n",
        "  model = c.MeanShift().fit(dataset.to_numpy())\n",
        "\n",
        "  n = name.lower().replace(' ', '_')\n",
        "  results[n] = {\n",
        "      'preds': model.labels_,\n",
        "      'centers': model.cluster_centers_\n",
        "  }\n",
        "\n",
        "  with open(f\"{PATH}models/mean_shift/{n}.pkl\", \"wb\") as f:\n",
        "      pickle.dump(model, f)\n",
        "\n",
        "  with open(PATH+'mean_shift_results.pkl', 'wb') as file_pi:\n",
        "      pickle.dump(results, file_pi)"
      ],
      "metadata": {
        "colab": {
          "base_uri": "https://localhost:8080/"
        },
        "id": "A8kTHH6ocpoO",
        "outputId": "757a3523-87ad-4200-c506-ab4f29b3185a"
      },
      "execution_count": null,
      "outputs": [
        {
          "output_type": "stream",
          "name": "stdout",
          "text": [
            "\tRunning AutoEncoder BERT dataset\n",
            "\tRunning AutoEncoder LaBSE dataset\n",
            "\tRunning AutoEncoder W2V dataset\n",
            "\tRunning PCA BERT dataset\n",
            "\tRunning PCA LaBSE dataset\n",
            "\tRunning PCA W2V dataset\n",
            "\tRunning SVD BERT dataset\n",
            "\tRunning SVD LaBSE dataset\n",
            "\tRunning SVD W2V dataset\n",
            "\tRunning UMAP BERT dataset\n",
            "\tRunning UMAP LaBSE dataset\n",
            "\tRunning UMAP W2V dataset\n"
          ]
        }
      ]
    },
    {
      "cell_type": "code",
      "source": [
        "with open(PATH+'mean_shift_results.pkl', 'rb') as f:\n",
        "    results = pickle.load(f)"
      ],
      "metadata": {
        "id": "RUP_gxnVP1zw"
      },
      "execution_count": null,
      "outputs": []
    },
    {
      "cell_type": "code",
      "source": [
        "# ReRun after runtime disconected on last dataset training\n",
        "model = c.MeanShift().fit(datasets[-1].to_numpy())"
      ],
      "metadata": {
        "id": "xpJrjGbfQENK"
      },
      "execution_count": null,
      "outputs": []
    },
    {
      "cell_type": "code",
      "source": [
        "n = dataset_names[-1].lower().replace(' ', '_')\n",
        "results[n] = {\n",
        "    'preds': model.labels_,\n",
        "    'centers': model.cluster_centers_\n",
        "}\n",
        "\n",
        "with open(f\"{PATH}models/mean_shift/{n}.pkl\", \"wb\") as f:\n",
        "    pickle.dump(model, f)\n",
        "\n",
        "with open(PATH+'mean_shift_results_2.pkl', 'wb') as file_pi:\n",
        "    pickle.dump(results, file_pi)"
      ],
      "metadata": {
        "id": "Q_c89dEBQu03"
      },
      "execution_count": null,
      "outputs": []
    },
    {
      "cell_type": "markdown",
      "source": [
        "## OPTICS"
      ],
      "metadata": {
        "id": "WwXFcCBLcMaf"
      }
    },
    {
      "cell_type": "code",
      "source": [
        "results = {}\n",
        "for dataset, name in zip(datasets, dataset_names):\n",
        "  print(f\"\\tRunning {name} dataset\")\n",
        "  model = c.OPTICS().fit(dataset.to_numpy())\n",
        "\n",
        "  n = name.lower().replace(' ', '_')\n",
        "  results[n] = model.labels_\n",
        "\n",
        "  with open(f\"{PATH}models/optics/{n}.pkl\", \"wb\") as f:\n",
        "      pickle.dump(model, f)\n",
        "\n",
        "  with open(PATH+'optics_results.pkl', 'wb') as file_pi:\n",
        "      pickle.dump(results, file_pi)"
      ],
      "metadata": {
        "colab": {
          "base_uri": "https://localhost:8080/"
        },
        "id": "lGNIlcWjcqBs",
        "outputId": "0370fc41-8e23-4544-d950-c4fb7f9b2095"
      },
      "execution_count": null,
      "outputs": [
        {
          "output_type": "stream",
          "name": "stdout",
          "text": [
            "\tRunning AutoEncoder BERT dataset\n"
          ]
        },
        {
          "output_type": "stream",
          "name": "stderr",
          "text": [
            "/usr/local/lib/python3.10/dist-packages/sklearn/cluster/_optics.py:995: RuntimeWarning: divide by zero encountered in divide\n",
            "  ratio = reachability_plot[:-1] / reachability_plot[1:]\n"
          ]
        },
        {
          "output_type": "stream",
          "name": "stdout",
          "text": [
            "\tRunning AutoEncoder LaBSE dataset\n"
          ]
        },
        {
          "output_type": "stream",
          "name": "stderr",
          "text": [
            "/usr/local/lib/python3.10/dist-packages/sklearn/cluster/_optics.py:995: RuntimeWarning: divide by zero encountered in divide\n",
            "  ratio = reachability_plot[:-1] / reachability_plot[1:]\n"
          ]
        },
        {
          "output_type": "stream",
          "name": "stdout",
          "text": [
            "\tRunning AutoEncoder W2V dataset\n"
          ]
        },
        {
          "output_type": "stream",
          "name": "stderr",
          "text": [
            "/usr/local/lib/python3.10/dist-packages/sklearn/cluster/_optics.py:995: RuntimeWarning: divide by zero encountered in divide\n",
            "  ratio = reachability_plot[:-1] / reachability_plot[1:]\n"
          ]
        },
        {
          "output_type": "stream",
          "name": "stdout",
          "text": [
            "\tRunning PCA BERT dataset\n"
          ]
        },
        {
          "output_type": "stream",
          "name": "stderr",
          "text": [
            "/usr/local/lib/python3.10/dist-packages/sklearn/cluster/_optics.py:995: RuntimeWarning: divide by zero encountered in divide\n",
            "  ratio = reachability_plot[:-1] / reachability_plot[1:]\n"
          ]
        },
        {
          "output_type": "stream",
          "name": "stdout",
          "text": [
            "\tRunning PCA LaBSE dataset\n"
          ]
        },
        {
          "output_type": "stream",
          "name": "stderr",
          "text": [
            "/usr/local/lib/python3.10/dist-packages/sklearn/cluster/_optics.py:995: RuntimeWarning: divide by zero encountered in divide\n",
            "  ratio = reachability_plot[:-1] / reachability_plot[1:]\n"
          ]
        },
        {
          "output_type": "stream",
          "name": "stdout",
          "text": [
            "\tRunning PCA W2V dataset\n"
          ]
        },
        {
          "output_type": "stream",
          "name": "stderr",
          "text": [
            "/usr/local/lib/python3.10/dist-packages/sklearn/cluster/_optics.py:995: RuntimeWarning: divide by zero encountered in divide\n",
            "  ratio = reachability_plot[:-1] / reachability_plot[1:]\n"
          ]
        },
        {
          "output_type": "stream",
          "name": "stdout",
          "text": [
            "\tRunning SVD BERT dataset\n"
          ]
        },
        {
          "output_type": "stream",
          "name": "stderr",
          "text": [
            "/usr/local/lib/python3.10/dist-packages/sklearn/cluster/_optics.py:995: RuntimeWarning: divide by zero encountered in divide\n",
            "  ratio = reachability_plot[:-1] / reachability_plot[1:]\n"
          ]
        },
        {
          "output_type": "stream",
          "name": "stdout",
          "text": [
            "\tRunning SVD LaBSE dataset\n"
          ]
        },
        {
          "output_type": "stream",
          "name": "stderr",
          "text": [
            "/usr/local/lib/python3.10/dist-packages/sklearn/cluster/_optics.py:995: RuntimeWarning: divide by zero encountered in divide\n",
            "  ratio = reachability_plot[:-1] / reachability_plot[1:]\n"
          ]
        },
        {
          "output_type": "stream",
          "name": "stdout",
          "text": [
            "\tRunning SVD W2V dataset\n"
          ]
        },
        {
          "output_type": "stream",
          "name": "stderr",
          "text": [
            "/usr/local/lib/python3.10/dist-packages/sklearn/cluster/_optics.py:995: RuntimeWarning: divide by zero encountered in divide\n",
            "  ratio = reachability_plot[:-1] / reachability_plot[1:]\n"
          ]
        },
        {
          "output_type": "stream",
          "name": "stdout",
          "text": [
            "\tRunning UMAP BERT dataset\n",
            "\tRunning UMAP LaBSE dataset\n",
            "\tRunning UMAP W2V dataset\n"
          ]
        }
      ]
    },
    {
      "cell_type": "markdown",
      "source": [
        "## Agglomerative Clustering"
      ],
      "metadata": {
        "id": "j29H8OJkcMYN"
      }
    },
    {
      "cell_type": "code",
      "source": [
        "for _n_clusters in n_clusters_to_pred:\n",
        "  print(f\"Experiments with {_n_clusters}\")\n",
        "  results = pd.DataFrame()\n",
        "  for dataset, name in zip(datasets, dataset_names):\n",
        "    print(f\"\\tRunning {name} dataset\")\n",
        "    # Running clustering\n",
        "    model = c.AgglomerativeClustering(n_clusters=_n_clusters)\n",
        "    preds = model.fit_predict(dataset.to_numpy())\n",
        "\n",
        "    # Saving preds\n",
        "    n = name.lower().replace(' ', '_')\n",
        "    results[n] = preds\n",
        "\n",
        "    # Saving clustering model\n",
        "    with open(f\"{PATH}models/agglomerative_clustering/{n}_{_n_clusters}.pkl\", \"wb\") as f:\n",
        "      pickle.dump(model, f)\n",
        "  results.to_csv(PATH+'agglomerativeClustering_'+str(_n_clusters)+'.csv', index=False)\n"
      ],
      "metadata": {
        "colab": {
          "base_uri": "https://localhost:8080/"
        },
        "id": "VIH9F3EJcqx5",
        "outputId": "ecc8f83f-f21f-4391-d744-777a9a3e081b"
      },
      "execution_count": null,
      "outputs": [
        {
          "output_type": "stream",
          "name": "stdout",
          "text": [
            "Experiments with 20\n",
            "\tRunning AutoEncoder BERT dataset\n",
            "\tRunning AutoEncoder LaBSE dataset\n",
            "\tRunning AutoEncoder W2V dataset\n",
            "\tRunning PCA BERT dataset\n",
            "\tRunning PCA LaBSE dataset\n",
            "\tRunning PCA W2V dataset\n",
            "\tRunning SVD BERT dataset\n",
            "\tRunning SVD LaBSE dataset\n",
            "\tRunning SVD W2V dataset\n",
            "\tRunning UMAP BERT dataset\n",
            "\tRunning UMAP LaBSE dataset\n",
            "\tRunning UMAP W2V dataset\n",
            "Experiments with 82\n",
            "\tRunning AutoEncoder BERT dataset\n",
            "\tRunning AutoEncoder LaBSE dataset\n",
            "\tRunning AutoEncoder W2V dataset\n",
            "\tRunning PCA BERT dataset\n",
            "\tRunning PCA LaBSE dataset\n",
            "\tRunning PCA W2V dataset\n",
            "\tRunning SVD BERT dataset\n",
            "\tRunning SVD LaBSE dataset\n",
            "\tRunning SVD W2V dataset\n",
            "\tRunning UMAP BERT dataset\n",
            "\tRunning UMAP LaBSE dataset\n",
            "\tRunning UMAP W2V dataset\n",
            "Experiments with 595\n",
            "\tRunning AutoEncoder BERT dataset\n",
            "\tRunning AutoEncoder LaBSE dataset\n",
            "\tRunning AutoEncoder W2V dataset\n",
            "\tRunning PCA BERT dataset\n",
            "\tRunning PCA LaBSE dataset\n",
            "\tRunning PCA W2V dataset\n",
            "\tRunning SVD BERT dataset\n",
            "\tRunning SVD LaBSE dataset\n",
            "\tRunning SVD W2V dataset\n",
            "\tRunning UMAP BERT dataset\n",
            "\tRunning UMAP LaBSE dataset\n",
            "\tRunning UMAP W2V dataset\n",
            "Experiments with 769\n",
            "\tRunning AutoEncoder BERT dataset\n",
            "\tRunning AutoEncoder LaBSE dataset\n",
            "\tRunning AutoEncoder W2V dataset\n",
            "\tRunning PCA BERT dataset\n",
            "\tRunning PCA LaBSE dataset\n",
            "\tRunning PCA W2V dataset\n",
            "\tRunning SVD BERT dataset\n",
            "\tRunning SVD LaBSE dataset\n",
            "\tRunning SVD W2V dataset\n",
            "\tRunning UMAP BERT dataset\n",
            "\tRunning UMAP LaBSE dataset\n",
            "\tRunning UMAP W2V dataset\n"
          ]
        }
      ]
    },
    {
      "cell_type": "markdown",
      "source": [
        "## Spectral clustering (RAM ISSUES)"
      ],
      "metadata": {
        "id": "JxYPcHhecMVo"
      }
    },
    {
      "cell_type": "code",
      "source": [
        "for _n_clusters in n_clusters_to_pred:\n",
        "  print(f\"Experiments with {_n_clusters}\")\n",
        "  results = pd.DataFrame()\n",
        "  for dataset, name in zip(datasets, dataset_names):\n",
        "    print(f\"\\tRunning {name} dataset\")\n",
        "    # Running clustering\n",
        "    model = c.SpectralClustering(n_clusters=_n_clusters,assign_labels='kmeans',random_state=0)\n",
        "    preds = model.fit_predict(dataset.to_numpy())\n",
        "\n",
        "    # Saving preds\n",
        "    n = name.lower().replace(' ', '_')\n",
        "    results[n] = preds\n",
        "\n",
        "    # Saving clustering model\n",
        "    with open(f\"{PATH}models/spectral_clustering/{n}_{_n_clusters}.pkl\", \"wb\") as f:\n",
        "      pickle.dump(model, f)\n",
        "  results.to_csv(PATH+'spectral_clustering_'+str(_n_clusters)+'.csv', index=False)\n"
      ],
      "metadata": {
        "colab": {
          "base_uri": "https://localhost:8080/"
        },
        "id": "s8jILZjjclRv",
        "outputId": "1de2350d-ca43-4151-fdfe-76a1680f8a95"
      },
      "execution_count": null,
      "outputs": [
        {
          "output_type": "stream",
          "name": "stdout",
          "text": [
            "Experiments with 20\n",
            "\tRunning AutoEncoder BERT dataset\n"
          ]
        }
      ]
    },
    {
      "cell_type": "code",
      "source": [],
      "metadata": {
        "id": "kdrZRattDXqK"
      },
      "execution_count": null,
      "outputs": []
    }
  ]
}