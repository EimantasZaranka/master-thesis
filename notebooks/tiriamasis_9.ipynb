{
  "nbformat": 4,
  "nbformat_minor": 0,
  "metadata": {
    "colab": {
      "provenance": []
    },
    "kernelspec": {
      "name": "python3",
      "display_name": "Python 3"
    },
    "language_info": {
      "name": "python"
    }
  },
  "cells": [
    {
      "cell_type": "code",
      "execution_count": 1,
      "metadata": {
        "colab": {
          "base_uri": "https://localhost:8080/"
        },
        "id": "pKyYmcF5p4q-",
        "outputId": "b5be7427-20c1-4264-f936-a25038deff71"
      },
      "outputs": [
        {
          "output_type": "stream",
          "name": "stdout",
          "text": [
            "Mounted at /content/drive\n"
          ]
        }
      ],
      "source": [
        "from google.colab import drive\n",
        "drive.mount('/content/drive')"
      ]
    },
    {
      "cell_type": "code",
      "source": [
        "import pandas as pd\n",
        "import numpy as np\n",
        "import sklearn.cluster as c\n",
        "import pickle\n",
        "import glob"
      ],
      "metadata": {
        "id": "dukqHAlHp_f4"
      },
      "execution_count": 8,
      "outputs": []
    },
    {
      "cell_type": "code",
      "source": [
        "df = pd.read_csv('/content/drive/MyDrive/Univerui/0 MAGISTRAS/tiriamasis/data/clean_data_wo_outliers.csv')\n",
        "df['Nace2'] = df['Nace2'].astype(int)\n",
        "df['gr_4digits'] = df['gr_4digits'].astype(int)"
      ],
      "metadata": {
        "id": "sBUo9N9iqPdx"
      },
      "execution_count": 3,
      "outputs": []
    },
    {
      "cell_type": "code",
      "source": [
        "df.Nace2.nunique(), df.gr_4digits.nunique(), df.gr_stat_letter.nunique(), df.gr_stat_code.nunique()"
      ],
      "metadata": {
        "colab": {
          "base_uri": "https://localhost:8080/"
        },
        "id": "OedaoP2D1IKJ",
        "outputId": "cf6db839-4da5-400a-d2a6-de2152ad02b0"
      },
      "execution_count": 44,
      "outputs": [
        {
          "output_type": "execute_result",
          "data": {
            "text/plain": [
              "(769, 595, 20, 82)"
            ]
          },
          "metadata": {},
          "execution_count": 44
        }
      ]
    },
    {
      "cell_type": "code",
      "source": [
        "from sklearn.preprocessing import LabelEncoder"
      ],
      "metadata": {
        "id": "X-42xoba34Ao"
      },
      "execution_count": 42,
      "outputs": []
    },
    {
      "cell_type": "code",
      "source": [
        "encoded_labels_df = pd.DataFrame()\n",
        "\n",
        "encoder = LabelEncoder()\n",
        "\n",
        "class_20 = encoder.fit_transform(df['gr_stat_letter'])\n",
        "with open('/content/drive/MyDrive/Univerui/0 MAGISTRAS/tiriamasis/Helpers/class_20.pkl', 'wb') as f:\n",
        "  pickle.dump(encoder, f)\n",
        "encoded_labels_df['class_20'] = class_20\n",
        "\n",
        "class_82 = encoder.fit_transform(df['gr_stat_code'])\n",
        "with open('/content/drive/MyDrive/Univerui/0 MAGISTRAS/tiriamasis/Helpers/class_82.pkl', 'wb') as f:\n",
        "  pickle.dump(encoder, f)\n",
        "encoded_labels_df['class_82'] = class_82\n",
        "\n",
        "class_595 = encoder.fit_transform(df['gr_4digits'])\n",
        "with open('/content/drive/MyDrive/Univerui/0 MAGISTRAS/tiriamasis/Helpers/class_595.pkl', 'wb') as f:\n",
        "  pickle.dump(encoder, f)\n",
        "encoded_labels_df['class_595'] = class_595\n",
        "\n",
        "class_769 = encoder.fit_transform(df['Nace2'])\n",
        "with open('/content/drive/MyDrive/Univerui/0 MAGISTRAS/tiriamasis/Helpers/class_769.pkl', 'wb') as f:\n",
        "  pickle.dump(encoder, f)\n",
        "encoded_labels_df['class_769'] = class_769"
      ],
      "metadata": {
        "id": "xD5mmMkl3qdd"
      },
      "execution_count": 45,
      "outputs": []
    },
    {
      "cell_type": "code",
      "source": [
        "encoded_labels_df.to_csv('/content/drive/MyDrive/Univerui/0 MAGISTRAS/tiriamasis/Helpers/encoded_labels_df.csv', index=False)"
      ],
      "metadata": {
        "id": "kv-N2j1Y5ATk"
      },
      "execution_count": 47,
      "outputs": []
    },
    {
      "cell_type": "code",
      "source": [
        "ae_bert = pd.read_csv('/content/drive/MyDrive/Univerui/0 MAGISTRAS/tiriamasis/FeatureSelection/AE/bert_ae_embeddings.csv')\n",
        "ae_labse = pd.read_csv('/content/drive/MyDrive/Univerui/0 MAGISTRAS/tiriamasis/FeatureSelection/AE/labse_ae_embeddings.csv')\n",
        "ae_w2v = pd.read_csv('/content/drive/MyDrive/Univerui/0 MAGISTRAS/tiriamasis/FeatureSelection/AE/w2v_ae_embeddings.csv')\n",
        "\n",
        "pca_bert = pd.read_csv('/content/drive/MyDrive/Univerui/0 MAGISTRAS/tiriamasis/FeatureSelection/PCA/bert_pca_embeddings.csv')\n",
        "pca_labse = pd.read_csv('/content/drive/MyDrive/Univerui/0 MAGISTRAS/tiriamasis/FeatureSelection/PCA/labse_pca_embeddings.csv')\n",
        "pca_w2v = pd.read_csv('/content/drive/MyDrive/Univerui/0 MAGISTRAS/tiriamasis/FeatureSelection/PCA/w2v_pca_embeddings.csv')\n",
        "\n",
        "svd_bert = pd.read_csv('/content/drive/MyDrive/Univerui/0 MAGISTRAS/tiriamasis/FeatureSelection/SVD/bert_svd_embeddings.csv')\n",
        "svd_labse = pd.read_csv('/content/drive/MyDrive/Univerui/0 MAGISTRAS/tiriamasis/FeatureSelection/SVD/labse_svd_embeddings.csv')\n",
        "svd_w2v = pd.read_csv('/content/drive/MyDrive/Univerui/0 MAGISTRAS/tiriamasis/FeatureSelection/SVD/w2v_svd_embeddings.csv')\n",
        "\n",
        "umap_bert = pd.read_csv('/content/drive/MyDrive/Univerui/0 MAGISTRAS/tiriamasis/FeatureSelection/UMAP/bert_umap_embeddings.csv')\n",
        "umap_labse = pd.read_csv('/content/drive/MyDrive/Univerui/0 MAGISTRAS/tiriamasis/FeatureSelection/UMAP/labse_umap_embeddings.csv')\n",
        "umap_w2v = pd.read_csv('/content/drive/MyDrive/Univerui/0 MAGISTRAS/tiriamasis/FeatureSelection/UMAP/w2v_umap_embeddings.csv')\n",
        "\n",
        "datasets = [ae_bert, ae_labse, ae_w2v, pca_bert, pca_labse, pca_w2v,\n",
        "            svd_bert, svd_labse, svd_w2v, umap_bert, umap_labse, umap_w2v]\n",
        "dataset_names = ['AutoEncoder BERT', 'AutoEncoder LaBSE', 'AutoEncoder W2V',\n",
        "                 'PCA BERT', 'PCA LaBSE', 'PCA W2V',\n",
        "                 'SVD BERT', 'SVD LaBSE', 'SVD W2V',\n",
        "                 'UMAP BERT', 'UMAP LaBSE', 'UMAP W2V']"
      ],
      "metadata": {
        "id": "izWSS9pHqRei"
      },
      "execution_count": 4,
      "outputs": []
    },
    {
      "cell_type": "code",
      "source": [
        "for dataset, dataset_name in zip(datasets, dataset_names):\n",
        "  zeroes = dataset.columns[(dataset == 0).all()]\n",
        "  if np.any(zeroes):\n",
        "    print(f\"{dataset_name} has zeros columns\", end=' | ')\n",
        "    print(f\"Dropping zero columns\", end=' | ')\n",
        "    dataset.drop(zeroes, axis=1, inplace=True)\n",
        "    print(f\"Zero columns dropped\")"
      ],
      "metadata": {
        "colab": {
          "base_uri": "https://localhost:8080/"
        },
        "id": "Chl1UTyEqVgM",
        "outputId": "39fefb70-aa0e-4f3e-8df1-da26113acfda"
      },
      "execution_count": 5,
      "outputs": [
        {
          "output_type": "stream",
          "name": "stdout",
          "text": [
            "AutoEncoder BERT has zeros columns | Dropping zero columns | Zero columns dropped\n",
            "AutoEncoder LaBSE has zeros columns | Dropping zero columns | Zero columns dropped\n",
            "AutoEncoder W2V has zeros columns | Dropping zero columns | Zero columns dropped\n"
          ]
        }
      ]
    },
    {
      "cell_type": "markdown",
      "source": [
        "# Preparing model splits"
      ],
      "metadata": {
        "id": "TYBhTlu4tKgX"
      }
    },
    {
      "cell_type": "code",
      "source": [
        "kmeans_20, kmeans_82, kmeans_595, kmeans_769 = [], [], [], []\n",
        "agg_20, agg_82, agg_595, agg_769 = [], [], [], []\n",
        "gmm_20, gmm_82, gmm_595, gmm_769 = [], [], [], []\n",
        "meanshift, optics, birch, hdbscan = [], [], [], []"
      ],
      "metadata": {
        "id": "FfeH4hKqthlR"
      },
      "execution_count": 16,
      "outputs": []
    },
    {
      "cell_type": "code",
      "source": [
        "CLUSTERS_PATH = '/content/drive/MyDrive/Univerui/0 MAGISTRAS/tiriamasis/clustering_outputs/models/'\n",
        "RESULT_PATH = '/content/drive/MyDrive/Univerui/0 MAGISTRAS/tiriamasis/results/'"
      ],
      "metadata": {
        "id": "VjKJ9hI0tTPv"
      },
      "execution_count": null,
      "outputs": []
    },
    {
      "cell_type": "code",
      "source": [
        "all_model_paths = glob.glob(CLUSTERS_PATH+'**/*.pkl')"
      ],
      "metadata": {
        "id": "0gmT_8U2tO4_"
      },
      "execution_count": 13,
      "outputs": []
    },
    {
      "cell_type": "code",
      "source": [
        "for path in all_model_paths:\n",
        "  if 'kmeans' in path:\n",
        "    if '20' in path:\n",
        "      kmeans_20.append(path)\n",
        "    elif '82' in path:\n",
        "      kmeans_82.append(path)\n",
        "    elif '595' in path:\n",
        "      kmeans_595.append(path)\n",
        "    elif '769' in path:\n",
        "      kmeans_769.append(path)\n",
        "  elif 'agglomerative_clustering' in path:\n",
        "    if '20' in path:\n",
        "      agg_20.append(path)\n",
        "    elif '82' in path:\n",
        "      agg_82.append(path)\n",
        "    elif '595' in path:\n",
        "      agg_595.append(path)\n",
        "    elif '769' in path:\n",
        "      agg_769.append(path)\n",
        "  elif 'mean_shift' in path:\n",
        "    meanshift.append(path)\n",
        "  elif 'optics' in path:\n",
        "    optics.append(path)\n",
        "  elif 'birch' in path:\n",
        "    birch.append(path)\n",
        "  elif 'hdbscan' in path:\n",
        "    hdbscan.append(path)\n",
        "  elif 'gmm' in path:\n",
        "    if '20' in path:\n",
        "      gmm_20.append(path)\n",
        "    elif '82' in path:\n",
        "      gmm_82.append(path)\n",
        "    elif '595' in path:\n",
        "      gmm_595.append(path)\n",
        "    elif '769' in path:\n",
        "      gmm_769.append(path)"
      ],
      "metadata": {
        "id": "nEJVLKWFuOC1"
      },
      "execution_count": 17,
      "outputs": []
    },
    {
      "cell_type": "markdown",
      "source": [
        "# Result Evaluation"
      ],
      "metadata": {
        "id": "6QCThc1lqdMa"
      }
    },
    {
      "cell_type": "code",
      "source": [
        "from sklearn.metrics import silhouette_score, davies_bouldin_score, calinski_harabasz_score\n",
        "from sklearn.metrics import mutual_info_score, adjusted_rand_score"
      ],
      "metadata": {
        "id": "wItb-ttyrqV1"
      },
      "execution_count": 25,
      "outputs": []
    },
    {
      "cell_type": "markdown",
      "source": [
        "## Hard Clustering Evaluation"
      ],
      "metadata": {
        "id": "MAUDvcdyD99Z"
      }
    },
    {
      "cell_type": "code",
      "source": [
        "def calculate_results(model_paths, has_labels_attr):\n",
        "  all_results = []\n",
        "  for dataset, dataset_name, model_path in zip(datasets, dataset_names, model_paths):\n",
        "    with open(model_path, 'rb') as f:\n",
        "      model = pickle.load(f)\n",
        "\n",
        "    num_clusters = int(model_path.split('/')[-1].split('_')[-1].split('.')[0])\n",
        "    target_column_name = 'class_'+str(num_clusters)\n",
        "\n",
        "    if not has_labels_attr:\n",
        "      y_preds = model.predict(dataset.to_numpy())\n",
        "    else:\n",
        "      y_preds = model.labels_\n",
        "\n",
        "    silhouette = silhouette_score(dataset, y_preds)\n",
        "    db_index = davies_bouldin_score(dataset, y_preds)\n",
        "    ch_index = calinski_harabasz_score(dataset, y_preds)\n",
        "    ari = adjusted_rand_score(encoded_labels_df[target_column_name], y_preds)\n",
        "    mi = mutual_info_score(encoded_labels_df[target_column_name], y_preds)\n",
        "\n",
        "    single_result = {\n",
        "        'dataset_name': dataset_name,\n",
        "        'model': model_path.split('/')[-2],\n",
        "        'num_clusters': num_clusters,\n",
        "        'silhouette': silhouette,\n",
        "        'db_index': db_index,\n",
        "        'ch_index': ch_index,\n",
        "        'ari': ari,\n",
        "        'mi': mi\n",
        "    }\n",
        "\n",
        "    all_results.append(single_result)\n",
        "  return all_results"
      ],
      "metadata": {
        "id": "GDw3OuDMw06p"
      },
      "execution_count": 83,
      "outputs": []
    },
    {
      "cell_type": "code",
      "source": [
        "models_to_run = [kmeans_20, kmeans_82, kmeans_595, kmeans_769,\n",
        "                 agg_20, agg_82, agg_595, agg_769, gmm_20, gmm_82,\n",
        "                 gmm_595, gmm_769]"
      ],
      "metadata": {
        "id": "4kdJt210rO8Y"
      },
      "execution_count": 81,
      "outputs": []
    },
    {
      "cell_type": "code",
      "source": [
        "results = []\n",
        "\n",
        "for models in models_to_run:\n",
        "  has_labels_attr = True\n",
        "  if models[0].split('/')[-2] == 'gmm': has_labels_attr = False\n",
        "\n",
        "  results.extend(calculate_results(models, has_labels_attr))\n"
      ],
      "metadata": {
        "id": "81Emoxfo0KG_"
      },
      "execution_count": 84,
      "outputs": []
    },
    {
      "cell_type": "code",
      "source": [
        "hard_cluster_res = pd.DataFrame(results)"
      ],
      "metadata": {
        "id": "48i59veT0zDX"
      },
      "execution_count": 85,
      "outputs": []
    },
    {
      "cell_type": "code",
      "source": [
        "hard_cluster_res.to_csv(RESULT_PATH+'hard_clustering_res_2.csv', index=False)"
      ],
      "metadata": {
        "id": "siWG87gTCa75"
      },
      "execution_count": 86,
      "outputs": []
    },
    {
      "cell_type": "code",
      "source": [],
      "metadata": {
        "id": "3FpJdPAkSdpo"
      },
      "execution_count": null,
      "outputs": []
    },
    {
      "cell_type": "markdown",
      "source": [
        "## Soft Clustering evaluation"
      ],
      "metadata": {
        "id": "an728RfPEBYQ"
      }
    },
    {
      "cell_type": "code",
      "source": [
        "models_to_run = [meanshift, optics, birch, hdbscan]"
      ],
      "metadata": {
        "id": "r2rJohgVC67w"
      },
      "execution_count": 58,
      "outputs": []
    },
    {
      "cell_type": "code",
      "source": [
        "def calculate_results(model_paths):\n",
        "  all_results = []\n",
        "  for dataset, dataset_name, model_path in zip(datasets, dataset_names, model_paths):\n",
        "    with open(model_path, 'rb') as f:\n",
        "      model = pickle.load(f)\n",
        "\n",
        "    y_preds = model.labels_\n",
        "    try:\n",
        "      silhouette = silhouette_score(dataset, y_preds)\n",
        "      db_index = davies_bouldin_score(dataset, y_preds)\n",
        "      ch_index = calinski_harabasz_score(dataset, y_preds)\n",
        "\n",
        "      single_result = {\n",
        "          'dataset_name': dataset_name,\n",
        "          'model': model_path.split('/')[-2],\n",
        "          'silhouette': silhouette,\n",
        "          'db_index': db_index,\n",
        "          'ch_index': ch_index,\n",
        "      }\n",
        "\n",
        "      all_results.append(single_result)\n",
        "    except Exception:\n",
        "      print(f\"Error model {model_path.split('/')[-2]} - Dataset name {dataset_name}\")\n",
        "  return all_results"
      ],
      "metadata": {
        "id": "JP_ed5MOD8St"
      },
      "execution_count": 63,
      "outputs": []
    },
    {
      "cell_type": "code",
      "source": [
        "results = []\n",
        "\n",
        "for models in models_to_run:\n",
        "  results.extend(calculate_results(models))\n"
      ],
      "metadata": {
        "colab": {
          "base_uri": "https://localhost:8080/"
        },
        "id": "LiUpIqDYEhKQ",
        "outputId": "ca636689-6b62-4f4f-f79d-99e6f1e8b479"
      },
      "execution_count": 64,
      "outputs": [
        {
          "output_type": "stream",
          "name": "stdout",
          "text": [
            "Error model mean_shift - Dataset name AutoEncoder BERT\n",
            "Error model mean_shift - Dataset name AutoEncoder LaBSE\n",
            "Error model mean_shift - Dataset name PCA BERT\n",
            "Error model mean_shift - Dataset name PCA LaBSE\n",
            "Error model mean_shift - Dataset name SVD BERT\n",
            "Error model mean_shift - Dataset name SVD LaBSE\n",
            "Error model birch - Dataset name AutoEncoder BERT\n",
            "Error model birch - Dataset name AutoEncoder LaBSE\n",
            "Error model birch - Dataset name PCA LaBSE\n",
            "Error model birch - Dataset name SVD LaBSE\n"
          ]
        }
      ]
    },
    {
      "cell_type": "code",
      "source": [
        "soft_cluster_res = pd.DataFrame(results)\n",
        "soft_cluster_res.to_csv(RESULT_PATH+'soft_clustering_res.csv', index=False)"
      ],
      "metadata": {
        "id": "2b1zsrVGEoi6"
      },
      "execution_count": 65,
      "outputs": []
    },
    {
      "cell_type": "code",
      "source": [
        "hard_cluster_res.sort_values(by='silhouette', ascending=False)"
      ],
      "metadata": {
        "colab": {
          "base_uri": "https://localhost:8080/",
          "height": 687
        },
        "id": "HP00XLjmHOLL",
        "outputId": "d1006aef-8b11-4e70-8ccf-10b48c76ad4c"
      },
      "execution_count": 87,
      "outputs": [
        {
          "output_type": "execute_result",
          "data": {
            "text/plain": [
              "         dataset_name                     model  num_clusters  silhouette  \\\n",
              "22         UMAP LaBSE                    kmeans            82    0.376421   \n",
              "70         UMAP LaBSE  agglomerative_clustering            82    0.375133   \n",
              "10         UMAP LaBSE                    kmeans            20    0.366893   \n",
              "58         UMAP LaBSE  agglomerative_clustering            20    0.360552   \n",
              "34         UMAP LaBSE                    kmeans           595    0.358674   \n",
              "..                ...                       ...           ...         ...   \n",
              "108  AutoEncoder BERT                       gmm            82    0.008124   \n",
              "116           SVD W2V                       gmm            82    0.003847   \n",
              "128           SVD W2V                       gmm           595   -0.005282   \n",
              "110   AutoEncoder W2V                       gmm            82   -0.007735   \n",
              "98    AutoEncoder W2V                       gmm            20   -0.028027   \n",
              "\n",
              "     db_index      ch_index       ari        mi  \n",
              "22   0.839862  13408.365158  0.118903  1.623047  \n",
              "70   0.835596  12552.306994  0.133809  1.632635  \n",
              "10   0.799440   8890.566837  0.165173  0.864913  \n",
              "58   0.696184   9087.153992  0.153991  0.828450  \n",
              "34   0.975500  11185.662998  0.087889  3.110025  \n",
              "..        ...           ...       ...       ...  \n",
              "108  2.920773    236.238595  0.077659  1.227512  \n",
              "116  2.176699   1466.310730  0.060914  1.106042  \n",
              "128  2.063752    529.779998  0.042003  2.391323  \n",
              "110  2.436546    862.333571  0.072335  1.206176  \n",
              "98   2.594467   1529.824628  0.094634  0.630493  \n",
              "\n",
              "[144 rows x 8 columns]"
            ],
            "text/html": [
              "\n",
              "  <div id=\"df-474e976d-ac49-4874-a0c0-3537c66ab590\" class=\"colab-df-container\">\n",
              "    <div>\n",
              "<style scoped>\n",
              "    .dataframe tbody tr th:only-of-type {\n",
              "        vertical-align: middle;\n",
              "    }\n",
              "\n",
              "    .dataframe tbody tr th {\n",
              "        vertical-align: top;\n",
              "    }\n",
              "\n",
              "    .dataframe thead th {\n",
              "        text-align: right;\n",
              "    }\n",
              "</style>\n",
              "<table border=\"1\" class=\"dataframe\">\n",
              "  <thead>\n",
              "    <tr style=\"text-align: right;\">\n",
              "      <th></th>\n",
              "      <th>dataset_name</th>\n",
              "      <th>model</th>\n",
              "      <th>num_clusters</th>\n",
              "      <th>silhouette</th>\n",
              "      <th>db_index</th>\n",
              "      <th>ch_index</th>\n",
              "      <th>ari</th>\n",
              "      <th>mi</th>\n",
              "    </tr>\n",
              "  </thead>\n",
              "  <tbody>\n",
              "    <tr>\n",
              "      <th>22</th>\n",
              "      <td>UMAP LaBSE</td>\n",
              "      <td>kmeans</td>\n",
              "      <td>82</td>\n",
              "      <td>0.376421</td>\n",
              "      <td>0.839862</td>\n",
              "      <td>13408.365158</td>\n",
              "      <td>0.118903</td>\n",
              "      <td>1.623047</td>\n",
              "    </tr>\n",
              "    <tr>\n",
              "      <th>70</th>\n",
              "      <td>UMAP LaBSE</td>\n",
              "      <td>agglomerative_clustering</td>\n",
              "      <td>82</td>\n",
              "      <td>0.375133</td>\n",
              "      <td>0.835596</td>\n",
              "      <td>12552.306994</td>\n",
              "      <td>0.133809</td>\n",
              "      <td>1.632635</td>\n",
              "    </tr>\n",
              "    <tr>\n",
              "      <th>10</th>\n",
              "      <td>UMAP LaBSE</td>\n",
              "      <td>kmeans</td>\n",
              "      <td>20</td>\n",
              "      <td>0.366893</td>\n",
              "      <td>0.799440</td>\n",
              "      <td>8890.566837</td>\n",
              "      <td>0.165173</td>\n",
              "      <td>0.864913</td>\n",
              "    </tr>\n",
              "    <tr>\n",
              "      <th>58</th>\n",
              "      <td>UMAP LaBSE</td>\n",
              "      <td>agglomerative_clustering</td>\n",
              "      <td>20</td>\n",
              "      <td>0.360552</td>\n",
              "      <td>0.696184</td>\n",
              "      <td>9087.153992</td>\n",
              "      <td>0.153991</td>\n",
              "      <td>0.828450</td>\n",
              "    </tr>\n",
              "    <tr>\n",
              "      <th>34</th>\n",
              "      <td>UMAP LaBSE</td>\n",
              "      <td>kmeans</td>\n",
              "      <td>595</td>\n",
              "      <td>0.358674</td>\n",
              "      <td>0.975500</td>\n",
              "      <td>11185.662998</td>\n",
              "      <td>0.087889</td>\n",
              "      <td>3.110025</td>\n",
              "    </tr>\n",
              "    <tr>\n",
              "      <th>...</th>\n",
              "      <td>...</td>\n",
              "      <td>...</td>\n",
              "      <td>...</td>\n",
              "      <td>...</td>\n",
              "      <td>...</td>\n",
              "      <td>...</td>\n",
              "      <td>...</td>\n",
              "      <td>...</td>\n",
              "    </tr>\n",
              "    <tr>\n",
              "      <th>108</th>\n",
              "      <td>AutoEncoder BERT</td>\n",
              "      <td>gmm</td>\n",
              "      <td>82</td>\n",
              "      <td>0.008124</td>\n",
              "      <td>2.920773</td>\n",
              "      <td>236.238595</td>\n",
              "      <td>0.077659</td>\n",
              "      <td>1.227512</td>\n",
              "    </tr>\n",
              "    <tr>\n",
              "      <th>116</th>\n",
              "      <td>SVD W2V</td>\n",
              "      <td>gmm</td>\n",
              "      <td>82</td>\n",
              "      <td>0.003847</td>\n",
              "      <td>2.176699</td>\n",
              "      <td>1466.310730</td>\n",
              "      <td>0.060914</td>\n",
              "      <td>1.106042</td>\n",
              "    </tr>\n",
              "    <tr>\n",
              "      <th>128</th>\n",
              "      <td>SVD W2V</td>\n",
              "      <td>gmm</td>\n",
              "      <td>595</td>\n",
              "      <td>-0.005282</td>\n",
              "      <td>2.063752</td>\n",
              "      <td>529.779998</td>\n",
              "      <td>0.042003</td>\n",
              "      <td>2.391323</td>\n",
              "    </tr>\n",
              "    <tr>\n",
              "      <th>110</th>\n",
              "      <td>AutoEncoder W2V</td>\n",
              "      <td>gmm</td>\n",
              "      <td>82</td>\n",
              "      <td>-0.007735</td>\n",
              "      <td>2.436546</td>\n",
              "      <td>862.333571</td>\n",
              "      <td>0.072335</td>\n",
              "      <td>1.206176</td>\n",
              "    </tr>\n",
              "    <tr>\n",
              "      <th>98</th>\n",
              "      <td>AutoEncoder W2V</td>\n",
              "      <td>gmm</td>\n",
              "      <td>20</td>\n",
              "      <td>-0.028027</td>\n",
              "      <td>2.594467</td>\n",
              "      <td>1529.824628</td>\n",
              "      <td>0.094634</td>\n",
              "      <td>0.630493</td>\n",
              "    </tr>\n",
              "  </tbody>\n",
              "</table>\n",
              "<p>144 rows × 8 columns</p>\n",
              "</div>\n",
              "    <div class=\"colab-df-buttons\">\n",
              "\n",
              "  <div class=\"colab-df-container\">\n",
              "    <button class=\"colab-df-convert\" onclick=\"convertToInteractive('df-474e976d-ac49-4874-a0c0-3537c66ab590')\"\n",
              "            title=\"Convert this dataframe to an interactive table.\"\n",
              "            style=\"display:none;\">\n",
              "\n",
              "  <svg xmlns=\"http://www.w3.org/2000/svg\" height=\"24px\" viewBox=\"0 -960 960 960\">\n",
              "    <path d=\"M120-120v-720h720v720H120Zm60-500h600v-160H180v160Zm220 220h160v-160H400v160Zm0 220h160v-160H400v160ZM180-400h160v-160H180v160Zm440 0h160v-160H620v160ZM180-180h160v-160H180v160Zm440 0h160v-160H620v160Z\"/>\n",
              "  </svg>\n",
              "    </button>\n",
              "\n",
              "  <style>\n",
              "    .colab-df-container {\n",
              "      display:flex;\n",
              "      gap: 12px;\n",
              "    }\n",
              "\n",
              "    .colab-df-convert {\n",
              "      background-color: #E8F0FE;\n",
              "      border: none;\n",
              "      border-radius: 50%;\n",
              "      cursor: pointer;\n",
              "      display: none;\n",
              "      fill: #1967D2;\n",
              "      height: 32px;\n",
              "      padding: 0 0 0 0;\n",
              "      width: 32px;\n",
              "    }\n",
              "\n",
              "    .colab-df-convert:hover {\n",
              "      background-color: #E2EBFA;\n",
              "      box-shadow: 0px 1px 2px rgba(60, 64, 67, 0.3), 0px 1px 3px 1px rgba(60, 64, 67, 0.15);\n",
              "      fill: #174EA6;\n",
              "    }\n",
              "\n",
              "    .colab-df-buttons div {\n",
              "      margin-bottom: 4px;\n",
              "    }\n",
              "\n",
              "    [theme=dark] .colab-df-convert {\n",
              "      background-color: #3B4455;\n",
              "      fill: #D2E3FC;\n",
              "    }\n",
              "\n",
              "    [theme=dark] .colab-df-convert:hover {\n",
              "      background-color: #434B5C;\n",
              "      box-shadow: 0px 1px 3px 1px rgba(0, 0, 0, 0.15);\n",
              "      filter: drop-shadow(0px 1px 2px rgba(0, 0, 0, 0.3));\n",
              "      fill: #FFFFFF;\n",
              "    }\n",
              "  </style>\n",
              "\n",
              "    <script>\n",
              "      const buttonEl =\n",
              "        document.querySelector('#df-474e976d-ac49-4874-a0c0-3537c66ab590 button.colab-df-convert');\n",
              "      buttonEl.style.display =\n",
              "        google.colab.kernel.accessAllowed ? 'block' : 'none';\n",
              "\n",
              "      async function convertToInteractive(key) {\n",
              "        const element = document.querySelector('#df-474e976d-ac49-4874-a0c0-3537c66ab590');\n",
              "        const dataTable =\n",
              "          await google.colab.kernel.invokeFunction('convertToInteractive',\n",
              "                                                    [key], {});\n",
              "        if (!dataTable) return;\n",
              "\n",
              "        const docLinkHtml = 'Like what you see? Visit the ' +\n",
              "          '<a target=\"_blank\" href=https://colab.research.google.com/notebooks/data_table.ipynb>data table notebook</a>'\n",
              "          + ' to learn more about interactive tables.';\n",
              "        element.innerHTML = '';\n",
              "        dataTable['output_type'] = 'display_data';\n",
              "        await google.colab.output.renderOutput(dataTable, element);\n",
              "        const docLink = document.createElement('div');\n",
              "        docLink.innerHTML = docLinkHtml;\n",
              "        element.appendChild(docLink);\n",
              "      }\n",
              "    </script>\n",
              "  </div>\n",
              "\n",
              "\n",
              "<div id=\"df-8a64fce8-2acd-4d04-bc25-690459b5bce4\">\n",
              "  <button class=\"colab-df-quickchart\" onclick=\"quickchart('df-8a64fce8-2acd-4d04-bc25-690459b5bce4')\"\n",
              "            title=\"Suggest charts\"\n",
              "            style=\"display:none;\">\n",
              "\n",
              "<svg xmlns=\"http://www.w3.org/2000/svg\" height=\"24px\"viewBox=\"0 0 24 24\"\n",
              "     width=\"24px\">\n",
              "    <g>\n",
              "        <path d=\"M19 3H5c-1.1 0-2 .9-2 2v14c0 1.1.9 2 2 2h14c1.1 0 2-.9 2-2V5c0-1.1-.9-2-2-2zM9 17H7v-7h2v7zm4 0h-2V7h2v10zm4 0h-2v-4h2v4z\"/>\n",
              "    </g>\n",
              "</svg>\n",
              "  </button>\n",
              "\n",
              "<style>\n",
              "  .colab-df-quickchart {\n",
              "      --bg-color: #E8F0FE;\n",
              "      --fill-color: #1967D2;\n",
              "      --hover-bg-color: #E2EBFA;\n",
              "      --hover-fill-color: #174EA6;\n",
              "      --disabled-fill-color: #AAA;\n",
              "      --disabled-bg-color: #DDD;\n",
              "  }\n",
              "\n",
              "  [theme=dark] .colab-df-quickchart {\n",
              "      --bg-color: #3B4455;\n",
              "      --fill-color: #D2E3FC;\n",
              "      --hover-bg-color: #434B5C;\n",
              "      --hover-fill-color: #FFFFFF;\n",
              "      --disabled-bg-color: #3B4455;\n",
              "      --disabled-fill-color: #666;\n",
              "  }\n",
              "\n",
              "  .colab-df-quickchart {\n",
              "    background-color: var(--bg-color);\n",
              "    border: none;\n",
              "    border-radius: 50%;\n",
              "    cursor: pointer;\n",
              "    display: none;\n",
              "    fill: var(--fill-color);\n",
              "    height: 32px;\n",
              "    padding: 0;\n",
              "    width: 32px;\n",
              "  }\n",
              "\n",
              "  .colab-df-quickchart:hover {\n",
              "    background-color: var(--hover-bg-color);\n",
              "    box-shadow: 0 1px 2px rgba(60, 64, 67, 0.3), 0 1px 3px 1px rgba(60, 64, 67, 0.15);\n",
              "    fill: var(--button-hover-fill-color);\n",
              "  }\n",
              "\n",
              "  .colab-df-quickchart-complete:disabled,\n",
              "  .colab-df-quickchart-complete:disabled:hover {\n",
              "    background-color: var(--disabled-bg-color);\n",
              "    fill: var(--disabled-fill-color);\n",
              "    box-shadow: none;\n",
              "  }\n",
              "\n",
              "  .colab-df-spinner {\n",
              "    border: 2px solid var(--fill-color);\n",
              "    border-color: transparent;\n",
              "    border-bottom-color: var(--fill-color);\n",
              "    animation:\n",
              "      spin 1s steps(1) infinite;\n",
              "  }\n",
              "\n",
              "  @keyframes spin {\n",
              "    0% {\n",
              "      border-color: transparent;\n",
              "      border-bottom-color: var(--fill-color);\n",
              "      border-left-color: var(--fill-color);\n",
              "    }\n",
              "    20% {\n",
              "      border-color: transparent;\n",
              "      border-left-color: var(--fill-color);\n",
              "      border-top-color: var(--fill-color);\n",
              "    }\n",
              "    30% {\n",
              "      border-color: transparent;\n",
              "      border-left-color: var(--fill-color);\n",
              "      border-top-color: var(--fill-color);\n",
              "      border-right-color: var(--fill-color);\n",
              "    }\n",
              "    40% {\n",
              "      border-color: transparent;\n",
              "      border-right-color: var(--fill-color);\n",
              "      border-top-color: var(--fill-color);\n",
              "    }\n",
              "    60% {\n",
              "      border-color: transparent;\n",
              "      border-right-color: var(--fill-color);\n",
              "    }\n",
              "    80% {\n",
              "      border-color: transparent;\n",
              "      border-right-color: var(--fill-color);\n",
              "      border-bottom-color: var(--fill-color);\n",
              "    }\n",
              "    90% {\n",
              "      border-color: transparent;\n",
              "      border-bottom-color: var(--fill-color);\n",
              "    }\n",
              "  }\n",
              "</style>\n",
              "\n",
              "  <script>\n",
              "    async function quickchart(key) {\n",
              "      const quickchartButtonEl =\n",
              "        document.querySelector('#' + key + ' button');\n",
              "      quickchartButtonEl.disabled = true;  // To prevent multiple clicks.\n",
              "      quickchartButtonEl.classList.add('colab-df-spinner');\n",
              "      try {\n",
              "        const charts = await google.colab.kernel.invokeFunction(\n",
              "            'suggestCharts', [key], {});\n",
              "      } catch (error) {\n",
              "        console.error('Error during call to suggestCharts:', error);\n",
              "      }\n",
              "      quickchartButtonEl.classList.remove('colab-df-spinner');\n",
              "      quickchartButtonEl.classList.add('colab-df-quickchart-complete');\n",
              "    }\n",
              "    (() => {\n",
              "      let quickchartButtonEl =\n",
              "        document.querySelector('#df-8a64fce8-2acd-4d04-bc25-690459b5bce4 button');\n",
              "      quickchartButtonEl.style.display =\n",
              "        google.colab.kernel.accessAllowed ? 'block' : 'none';\n",
              "    })();\n",
              "  </script>\n",
              "</div>\n",
              "\n",
              "    </div>\n",
              "  </div>\n"
            ],
            "application/vnd.google.colaboratory.intrinsic+json": {
              "type": "dataframe",
              "summary": "{\n  \"name\": \"hard_cluster_res\",\n  \"rows\": 144,\n  \"fields\": [\n    {\n      \"column\": \"dataset_name\",\n      \"properties\": {\n        \"dtype\": \"category\",\n        \"num_unique_values\": 12,\n        \"samples\": [\n          \"SVD BERT\",\n          \"AutoEncoder BERT\",\n          \"UMAP LaBSE\"\n        ],\n        \"semantic_type\": \"\",\n        \"description\": \"\"\n      }\n    },\n    {\n      \"column\": \"model\",\n      \"properties\": {\n        \"dtype\": \"category\",\n        \"num_unique_values\": 3,\n        \"samples\": [\n          \"kmeans\",\n          \"agglomerative_clustering\",\n          \"gmm\"\n        ],\n        \"semantic_type\": \"\",\n        \"description\": \"\"\n      }\n    },\n    {\n      \"column\": \"num_clusters\",\n      \"properties\": {\n        \"dtype\": \"number\",\n        \"std\": 323,\n        \"min\": 20,\n        \"max\": 769,\n        \"num_unique_values\": 4,\n        \"samples\": [\n          20,\n          769,\n          82\n        ],\n        \"semantic_type\": \"\",\n        \"description\": \"\"\n      }\n    },\n    {\n      \"column\": \"silhouette\",\n      \"properties\": {\n        \"dtype\": \"number\",\n        \"std\": 0.112799127737039,\n        \"min\": -0.028027090868732903,\n        \"max\": 0.37642079812168233,\n        \"num_unique_values\": 144,\n        \"samples\": [\n          0.03914029831085859,\n          0.3064387830186447,\n          0.06794756045698855\n        ],\n        \"semantic_type\": \"\",\n        \"description\": \"\"\n      }\n    },\n    {\n      \"column\": \"db_index\",\n      \"properties\": {\n        \"dtype\": \"number\",\n        \"std\": 0.8437107932388779,\n        \"min\": 0.6946214252695057,\n        \"max\": 3.4943834760983825,\n        \"num_unique_values\": 144,\n        \"samples\": [\n          3.377272094520266,\n          0.9673520762740243,\n          3.0706008952959816\n        ],\n        \"semantic_type\": \"\",\n        \"description\": \"\"\n      }\n    },\n    {\n      \"column\": \"ch_index\",\n      \"properties\": {\n        \"dtype\": \"number\",\n        \"std\": 3601.0235256503443,\n        \"min\": 42.302714143055205,\n        \"max\": 13408.365157832319,\n        \"num_unique_values\": 144,\n        \"samples\": [\n          436.9259888262408,\n          10473.51562779293,\n          559.9888905556187\n        ],\n        \"semantic_type\": \"\",\n        \"description\": \"\"\n      }\n    },\n    {\n      \"column\": \"ari\",\n      \"properties\": {\n        \"dtype\": \"number\",\n        \"std\": 0.02659439292356172,\n        \"min\": 0.03331784147268354,\n        \"max\": 0.16517348192146436,\n        \"num_unique_values\": 144,\n        \"samples\": [\n          0.1030995994338231,\n          0.12231757168605292,\n          0.12700352016343192\n        ],\n        \"semantic_type\": \"\",\n        \"description\": \"\"\n      }\n    },\n    {\n      \"column\": \"mi\",\n      \"properties\": {\n        \"dtype\": \"number\",\n        \"std\": 1.009936469617503,\n        \"min\": 0.46073277683310054,\n        \"max\": 3.334167410547501,\n        \"num_unique_values\": 144,\n        \"samples\": [\n          0.7488592588189807,\n          1.6152855729166304,\n          0.7480142483270356\n        ],\n        \"semantic_type\": \"\",\n        \"description\": \"\"\n      }\n    }\n  ]\n}"
            }
          },
          "metadata": {},
          "execution_count": 87
        }
      ]
    },
    {
      "cell_type": "code",
      "source": [],
      "metadata": {
        "id": "2rawLFvvHRR8"
      },
      "execution_count": null,
      "outputs": []
    }
  ]
}