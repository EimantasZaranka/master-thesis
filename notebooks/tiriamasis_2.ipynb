{
  "nbformat": 4,
  "nbformat_minor": 0,
  "metadata": {
    "colab": {
      "provenance": []
    },
    "kernelspec": {
      "name": "python3",
      "display_name": "Python 3"
    },
    "language_info": {
      "name": "python"
    }
  },
  "cells": [
    {
      "cell_type": "code",
      "execution_count": null,
      "metadata": {
        "colab": {
          "base_uri": "https://localhost:8080/"
        },
        "id": "KZgvAFTuChY8",
        "outputId": "3822a394-1132-4d08-d762-31d41d1df1d8"
      },
      "outputs": [
        {
          "output_type": "stream",
          "name": "stdout",
          "text": [
            "Mounted at /content/drive\n"
          ]
        }
      ],
      "source": [
        "import pandas as pd\n",
        "import numpy as np\n",
        "import re\n",
        "\n",
        "from google.colab import drive\n",
        "drive.mount('/content/drive')\n",
        "\n",
        "import matplotlib.pyplot as plt\n",
        "import seaborn as sns"
      ]
    },
    {
      "cell_type": "code",
      "source": [
        "import string\n",
        "import re"
      ],
      "metadata": {
        "id": "fmkJAVSOGqAU"
      },
      "execution_count": null,
      "outputs": []
    },
    {
      "cell_type": "code",
      "source": [
        "%%capture\n",
        "!python3 -m spacy download lt_core_news_md"
      ],
      "metadata": {
        "id": "6Vd_-eH8D6lc"
      },
      "execution_count": null,
      "outputs": []
    },
    {
      "cell_type": "code",
      "source": [
        "df = pd.read_csv('/content/drive/MyDrive/Univerui/0 MAGISTRAS/tiriamasis/data/rek_su_aprasymais.csv')\n",
        "df.drop(['has_desc'], axis=1, inplace=True)"
      ],
      "metadata": {
        "id": "-PM5QKkXCqZh"
      },
      "execution_count": null,
      "outputs": []
    },
    {
      "cell_type": "code",
      "source": [
        "df = df.drop_duplicates(subset=['imones_aprasymas'])"
      ],
      "metadata": {
        "id": "7E-FTX3aERMd"
      },
      "execution_count": null,
      "outputs": []
    },
    {
      "cell_type": "code",
      "source": [
        "def clean_company_names(x):\n",
        "  x = x.lower()\n",
        "  table = str.maketrans(\"\",\"\", string.punctuation)\n",
        "  x = x.translate(table).lower().split()\n",
        "  x = ' '.join(x)\n",
        "\n",
        "  str_to_remove = ['&rdquo', '&bull','&amp']\n",
        "  for i in str_to_remove:\n",
        "    x= x.replace(i, '')\n",
        "\n",
        "  x = re.sub(' +', ' ', x)\n",
        "  return x\n",
        "\n",
        "df['imones_pavadinimas'] = df.apply(lambda row: clean_company_names(row['imones_pavadinimas']), axis=1)"
      ],
      "metadata": {
        "id": "EqZOCnweGUR0"
      },
      "execution_count": null,
      "outputs": []
    },
    {
      "cell_type": "code",
      "source": [
        "import spacy\n",
        "import snowballstemmer\n",
        "nlp = spacy.load(\"lt_core_news_md\")\n",
        "\n",
        "\n",
        "def basic_clean(x, y):\n",
        "  # Text to lowercase\n",
        "  x = x.lower()\n",
        "\n",
        "  # Remove websites\n",
        "  pattern = r'(https?://)?(www\\.)?[\\w\\s]+\\.\\w+'\n",
        "  x = re.sub(pattern, '', x)\n",
        "\n",
        "  # Removing particular artifacts\n",
        "  str_to_remove = ['&rdquo', '&bull','&amp', '[email&#160;protected]', 'kontaktai',\n",
        "                   'mob.', 'tel.', 'el.', 'paštas', 'telefonu', 'telefonai']\n",
        "  for r in str_to_remove+y.split(\" \"):\n",
        "    x = x.replace(r, '')\n",
        "\n",
        "  # Remove all digits\n",
        "  x = re.sub('[0-9]', '', x)\n",
        "\n",
        "  # Removing all punctuations\n",
        "  table = str.maketrans(\"\",\"\", string.punctuation + \"„“‘–\")\n",
        "  x = x.translate(table)\n",
        "\n",
        "  # Removing stopwords\n",
        "  doc = nlp(x)\n",
        "  x_filtered = [token.text for token in doc if not token.is_stop]\n",
        "  x_filtered = [word for word in x_filtered if len(word) > 2]\n",
        "  x = ' '.join(x_filtered)\n",
        "\n",
        "  # Removing additional empty spaces\n",
        "  x = re.sub(' +', ' ', x)\n",
        "\n",
        "  # Stemming\n",
        "  #stemmer = snowballstemmer.stemmer('lithuanian')\n",
        "  #x = ' '.join(stemmer.stemWords(x.split()))\n",
        "  return x.strip()"
      ],
      "metadata": {
        "id": "p0_aTwg1DhvM"
      },
      "execution_count": null,
      "outputs": []
    },
    {
      "cell_type": "code",
      "source": [
        "df['imones_aprasymas'] = df.apply(lambda row: basic_clean(row['imones_aprasymas'], row['imones_pavadinimas']), axis=1)"
      ],
      "metadata": {
        "id": "xJ_4hJafDjDu"
      },
      "execution_count": null,
      "outputs": []
    },
    {
      "cell_type": "code",
      "source": [
        "df['desc_len'] = df['imones_aprasymas'].str.count(r'\\w+')"
      ],
      "metadata": {
        "id": "QdgTdCkIL4qO"
      },
      "execution_count": null,
      "outputs": []
    },
    {
      "cell_type": "code",
      "source": [
        "df.sample(5)"
      ],
      "metadata": {
        "colab": {
          "base_uri": "https://localhost:8080/",
          "height": 206
        },
        "id": "qqNGGLyPIFLG",
        "outputId": "399b08d8-05e3-48df-d700-ae7b210aadc7"
      },
      "execution_count": null,
      "outputs": [
        {
          "output_type": "execute_result",
          "data": {
            "text/plain": [
              "       imones_kodas              imones_pavadinimas  \\\n",
              "22349     303080976                       jutus uab   \n",
              "7275      190459552  tauragės tarailių progimnazija   \n",
              "18890     147020459                     deimulė uab   \n",
              "1135      301645640                     waristi uab   \n",
              "20673     141929550                   l rubcovos iį   \n",
              "\n",
              "                                        imones_aprasymas  desc_len  \n",
              "22349  autoservisas ratų montavimas ratų balansavimas...        37  \n",
              "7275                                       mokoma klasės         2  \n",
              "18890  korpusiniai minkšti baldai projektavimas gamyb...        13  \n",
              "1135   įmonė veikianti nidalingua vardu specializuoja...        25  \n",
              "20673  taka rekama rekamos agentūra įkūrta metais aik...        30  "
            ],
            "text/html": [
              "\n",
              "  <div id=\"df-baf0e1fe-7c35-4d0e-ac73-8804c33f7198\" class=\"colab-df-container\">\n",
              "    <div>\n",
              "<style scoped>\n",
              "    .dataframe tbody tr th:only-of-type {\n",
              "        vertical-align: middle;\n",
              "    }\n",
              "\n",
              "    .dataframe tbody tr th {\n",
              "        vertical-align: top;\n",
              "    }\n",
              "\n",
              "    .dataframe thead th {\n",
              "        text-align: right;\n",
              "    }\n",
              "</style>\n",
              "<table border=\"1\" class=\"dataframe\">\n",
              "  <thead>\n",
              "    <tr style=\"text-align: right;\">\n",
              "      <th></th>\n",
              "      <th>imones_kodas</th>\n",
              "      <th>imones_pavadinimas</th>\n",
              "      <th>imones_aprasymas</th>\n",
              "      <th>desc_len</th>\n",
              "    </tr>\n",
              "  </thead>\n",
              "  <tbody>\n",
              "    <tr>\n",
              "      <th>22349</th>\n",
              "      <td>303080976</td>\n",
              "      <td>jutus uab</td>\n",
              "      <td>autoservisas ratų montavimas ratų balansavimas...</td>\n",
              "      <td>37</td>\n",
              "    </tr>\n",
              "    <tr>\n",
              "      <th>7275</th>\n",
              "      <td>190459552</td>\n",
              "      <td>tauragės tarailių progimnazija</td>\n",
              "      <td>mokoma klasės</td>\n",
              "      <td>2</td>\n",
              "    </tr>\n",
              "    <tr>\n",
              "      <th>18890</th>\n",
              "      <td>147020459</td>\n",
              "      <td>deimulė uab</td>\n",
              "      <td>korpusiniai minkšti baldai projektavimas gamyb...</td>\n",
              "      <td>13</td>\n",
              "    </tr>\n",
              "    <tr>\n",
              "      <th>1135</th>\n",
              "      <td>301645640</td>\n",
              "      <td>waristi uab</td>\n",
              "      <td>įmonė veikianti nidalingua vardu specializuoja...</td>\n",
              "      <td>25</td>\n",
              "    </tr>\n",
              "    <tr>\n",
              "      <th>20673</th>\n",
              "      <td>141929550</td>\n",
              "      <td>l rubcovos iį</td>\n",
              "      <td>taka rekama rekamos agentūra įkūrta metais aik...</td>\n",
              "      <td>30</td>\n",
              "    </tr>\n",
              "  </tbody>\n",
              "</table>\n",
              "</div>\n",
              "    <div class=\"colab-df-buttons\">\n",
              "\n",
              "  <div class=\"colab-df-container\">\n",
              "    <button class=\"colab-df-convert\" onclick=\"convertToInteractive('df-baf0e1fe-7c35-4d0e-ac73-8804c33f7198')\"\n",
              "            title=\"Convert this dataframe to an interactive table.\"\n",
              "            style=\"display:none;\">\n",
              "\n",
              "  <svg xmlns=\"http://www.w3.org/2000/svg\" height=\"24px\" viewBox=\"0 -960 960 960\">\n",
              "    <path d=\"M120-120v-720h720v720H120Zm60-500h600v-160H180v160Zm220 220h160v-160H400v160Zm0 220h160v-160H400v160ZM180-400h160v-160H180v160Zm440 0h160v-160H620v160ZM180-180h160v-160H180v160Zm440 0h160v-160H620v160Z\"/>\n",
              "  </svg>\n",
              "    </button>\n",
              "\n",
              "  <style>\n",
              "    .colab-df-container {\n",
              "      display:flex;\n",
              "      gap: 12px;\n",
              "    }\n",
              "\n",
              "    .colab-df-convert {\n",
              "      background-color: #E8F0FE;\n",
              "      border: none;\n",
              "      border-radius: 50%;\n",
              "      cursor: pointer;\n",
              "      display: none;\n",
              "      fill: #1967D2;\n",
              "      height: 32px;\n",
              "      padding: 0 0 0 0;\n",
              "      width: 32px;\n",
              "    }\n",
              "\n",
              "    .colab-df-convert:hover {\n",
              "      background-color: #E2EBFA;\n",
              "      box-shadow: 0px 1px 2px rgba(60, 64, 67, 0.3), 0px 1px 3px 1px rgba(60, 64, 67, 0.15);\n",
              "      fill: #174EA6;\n",
              "    }\n",
              "\n",
              "    .colab-df-buttons div {\n",
              "      margin-bottom: 4px;\n",
              "    }\n",
              "\n",
              "    [theme=dark] .colab-df-convert {\n",
              "      background-color: #3B4455;\n",
              "      fill: #D2E3FC;\n",
              "    }\n",
              "\n",
              "    [theme=dark] .colab-df-convert:hover {\n",
              "      background-color: #434B5C;\n",
              "      box-shadow: 0px 1px 3px 1px rgba(0, 0, 0, 0.15);\n",
              "      filter: drop-shadow(0px 1px 2px rgba(0, 0, 0, 0.3));\n",
              "      fill: #FFFFFF;\n",
              "    }\n",
              "  </style>\n",
              "\n",
              "    <script>\n",
              "      const buttonEl =\n",
              "        document.querySelector('#df-baf0e1fe-7c35-4d0e-ac73-8804c33f7198 button.colab-df-convert');\n",
              "      buttonEl.style.display =\n",
              "        google.colab.kernel.accessAllowed ? 'block' : 'none';\n",
              "\n",
              "      async function convertToInteractive(key) {\n",
              "        const element = document.querySelector('#df-baf0e1fe-7c35-4d0e-ac73-8804c33f7198');\n",
              "        const dataTable =\n",
              "          await google.colab.kernel.invokeFunction('convertToInteractive',\n",
              "                                                    [key], {});\n",
              "        if (!dataTable) return;\n",
              "\n",
              "        const docLinkHtml = 'Like what you see? Visit the ' +\n",
              "          '<a target=\"_blank\" href=https://colab.research.google.com/notebooks/data_table.ipynb>data table notebook</a>'\n",
              "          + ' to learn more about interactive tables.';\n",
              "        element.innerHTML = '';\n",
              "        dataTable['output_type'] = 'display_data';\n",
              "        await google.colab.output.renderOutput(dataTable, element);\n",
              "        const docLink = document.createElement('div');\n",
              "        docLink.innerHTML = docLinkHtml;\n",
              "        element.appendChild(docLink);\n",
              "      }\n",
              "    </script>\n",
              "  </div>\n",
              "\n",
              "\n",
              "<div id=\"df-5860bea9-b37d-4c23-afc3-62de7cee1f1e\">\n",
              "  <button class=\"colab-df-quickchart\" onclick=\"quickchart('df-5860bea9-b37d-4c23-afc3-62de7cee1f1e')\"\n",
              "            title=\"Suggest charts\"\n",
              "            style=\"display:none;\">\n",
              "\n",
              "<svg xmlns=\"http://www.w3.org/2000/svg\" height=\"24px\"viewBox=\"0 0 24 24\"\n",
              "     width=\"24px\">\n",
              "    <g>\n",
              "        <path d=\"M19 3H5c-1.1 0-2 .9-2 2v14c0 1.1.9 2 2 2h14c1.1 0 2-.9 2-2V5c0-1.1-.9-2-2-2zM9 17H7v-7h2v7zm4 0h-2V7h2v10zm4 0h-2v-4h2v4z\"/>\n",
              "    </g>\n",
              "</svg>\n",
              "  </button>\n",
              "\n",
              "<style>\n",
              "  .colab-df-quickchart {\n",
              "      --bg-color: #E8F0FE;\n",
              "      --fill-color: #1967D2;\n",
              "      --hover-bg-color: #E2EBFA;\n",
              "      --hover-fill-color: #174EA6;\n",
              "      --disabled-fill-color: #AAA;\n",
              "      --disabled-bg-color: #DDD;\n",
              "  }\n",
              "\n",
              "  [theme=dark] .colab-df-quickchart {\n",
              "      --bg-color: #3B4455;\n",
              "      --fill-color: #D2E3FC;\n",
              "      --hover-bg-color: #434B5C;\n",
              "      --hover-fill-color: #FFFFFF;\n",
              "      --disabled-bg-color: #3B4455;\n",
              "      --disabled-fill-color: #666;\n",
              "  }\n",
              "\n",
              "  .colab-df-quickchart {\n",
              "    background-color: var(--bg-color);\n",
              "    border: none;\n",
              "    border-radius: 50%;\n",
              "    cursor: pointer;\n",
              "    display: none;\n",
              "    fill: var(--fill-color);\n",
              "    height: 32px;\n",
              "    padding: 0;\n",
              "    width: 32px;\n",
              "  }\n",
              "\n",
              "  .colab-df-quickchart:hover {\n",
              "    background-color: var(--hover-bg-color);\n",
              "    box-shadow: 0 1px 2px rgba(60, 64, 67, 0.3), 0 1px 3px 1px rgba(60, 64, 67, 0.15);\n",
              "    fill: var(--button-hover-fill-color);\n",
              "  }\n",
              "\n",
              "  .colab-df-quickchart-complete:disabled,\n",
              "  .colab-df-quickchart-complete:disabled:hover {\n",
              "    background-color: var(--disabled-bg-color);\n",
              "    fill: var(--disabled-fill-color);\n",
              "    box-shadow: none;\n",
              "  }\n",
              "\n",
              "  .colab-df-spinner {\n",
              "    border: 2px solid var(--fill-color);\n",
              "    border-color: transparent;\n",
              "    border-bottom-color: var(--fill-color);\n",
              "    animation:\n",
              "      spin 1s steps(1) infinite;\n",
              "  }\n",
              "\n",
              "  @keyframes spin {\n",
              "    0% {\n",
              "      border-color: transparent;\n",
              "      border-bottom-color: var(--fill-color);\n",
              "      border-left-color: var(--fill-color);\n",
              "    }\n",
              "    20% {\n",
              "      border-color: transparent;\n",
              "      border-left-color: var(--fill-color);\n",
              "      border-top-color: var(--fill-color);\n",
              "    }\n",
              "    30% {\n",
              "      border-color: transparent;\n",
              "      border-left-color: var(--fill-color);\n",
              "      border-top-color: var(--fill-color);\n",
              "      border-right-color: var(--fill-color);\n",
              "    }\n",
              "    40% {\n",
              "      border-color: transparent;\n",
              "      border-right-color: var(--fill-color);\n",
              "      border-top-color: var(--fill-color);\n",
              "    }\n",
              "    60% {\n",
              "      border-color: transparent;\n",
              "      border-right-color: var(--fill-color);\n",
              "    }\n",
              "    80% {\n",
              "      border-color: transparent;\n",
              "      border-right-color: var(--fill-color);\n",
              "      border-bottom-color: var(--fill-color);\n",
              "    }\n",
              "    90% {\n",
              "      border-color: transparent;\n",
              "      border-bottom-color: var(--fill-color);\n",
              "    }\n",
              "  }\n",
              "</style>\n",
              "\n",
              "  <script>\n",
              "    async function quickchart(key) {\n",
              "      const quickchartButtonEl =\n",
              "        document.querySelector('#' + key + ' button');\n",
              "      quickchartButtonEl.disabled = true;  // To prevent multiple clicks.\n",
              "      quickchartButtonEl.classList.add('colab-df-spinner');\n",
              "      try {\n",
              "        const charts = await google.colab.kernel.invokeFunction(\n",
              "            'suggestCharts', [key], {});\n",
              "      } catch (error) {\n",
              "        console.error('Error during call to suggestCharts:', error);\n",
              "      }\n",
              "      quickchartButtonEl.classList.remove('colab-df-spinner');\n",
              "      quickchartButtonEl.classList.add('colab-df-quickchart-complete');\n",
              "    }\n",
              "    (() => {\n",
              "      let quickchartButtonEl =\n",
              "        document.querySelector('#df-5860bea9-b37d-4c23-afc3-62de7cee1f1e button');\n",
              "      quickchartButtonEl.style.display =\n",
              "        google.colab.kernel.accessAllowed ? 'block' : 'none';\n",
              "    })();\n",
              "  </script>\n",
              "</div>\n",
              "    </div>\n",
              "  </div>\n"
            ],
            "application/vnd.google.colaboratory.intrinsic+json": {
              "type": "dataframe",
              "summary": "{\n  \"name\": \"df\",\n  \"rows\": 5,\n  \"fields\": [\n    {\n      \"column\": \"imones_kodas\",\n      \"properties\": {\n        \"dtype\": \"number\",\n        \"std\": 80330214,\n        \"min\": 141929550,\n        \"max\": 303080976,\n        \"num_unique_values\": 5,\n        \"samples\": [\n          190459552,\n          141929550,\n          147020459\n        ],\n        \"semantic_type\": \"\",\n        \"description\": \"\"\n      }\n    },\n    {\n      \"column\": \"imones_pavadinimas\",\n      \"properties\": {\n        \"dtype\": \"string\",\n        \"num_unique_values\": 5,\n        \"samples\": [\n          \"taurag\\u0117s taraili\\u0173 progimnazija\",\n          \"l rubcovos i\\u012f\",\n          \"deimul\\u0117 uab\"\n        ],\n        \"semantic_type\": \"\",\n        \"description\": \"\"\n      }\n    },\n    {\n      \"column\": \"imones_aprasymas\",\n      \"properties\": {\n        \"dtype\": \"string\",\n        \"num_unique_values\": 5,\n        \"samples\": [\n          \"mokoma klas\\u0117s\",\n          \"taka rekama rekamos agent\\u016bra \\u012fk\\u016brta metais aikotarp\\u012f \\u012fmon\\u0117 nuoat tobu\\u0117jo tobu\\u0117ja toiau siekdama kiento vizijos norai tapt\\u0173 reaiais darbais po\\u017ei\\u016bris garantavo s\\u0117km\\u0119 pen\\u0117 kient\\u0173 pasitik\\u0117jim\\u0105 nuoat kreipiasi siekiant rasti geriausius\",\n          \"korpusiniai mink\\u0161ti baldai projektavimas gamyba prekyba baldai ikimokyklin\\u0117ms \\u012fstaigoms vaik\\u0173 dar\\u017eeliams gamyba u\\u017esakymus\"\n        ],\n        \"semantic_type\": \"\",\n        \"description\": \"\"\n      }\n    },\n    {\n      \"column\": \"desc_len\",\n      \"properties\": {\n        \"dtype\": \"number\",\n        \"std\": 13,\n        \"min\": 2,\n        \"max\": 37,\n        \"num_unique_values\": 5,\n        \"samples\": [\n          2,\n          30,\n          13\n        ],\n        \"semantic_type\": \"\",\n        \"description\": \"\"\n      }\n    }\n  ]\n}"
            }
          },
          "metadata": {},
          "execution_count": 43
        }
      ]
    },
    {
      "cell_type": "code",
      "source": [
        "import seaborn as sns"
      ],
      "metadata": {
        "id": "kTIpjZXrMUDM"
      },
      "execution_count": null,
      "outputs": []
    },
    {
      "cell_type": "code",
      "source": [
        "df.to_csv('/content/drive/MyDrive/Univerui/0 MAGISTRAS/tiriamasis/parsed_data/semi_clean.csv', index=False)"
      ],
      "metadata": {
        "id": "Aat8qsj5NXYS"
      },
      "execution_count": null,
      "outputs": []
    },
    {
      "cell_type": "code",
      "source": [
        "df = df[(df['desc_len']>9) & (df['desc_len']<161)]\n",
        "df.to_csv('/content/drive/MyDrive/Univerui/0 MAGISTRAS/tiriamasis/parsed_data/semi_clean_095.csv', index=False)"
      ],
      "metadata": {
        "id": "FYVTKcquOKby"
      },
      "execution_count": null,
      "outputs": []
    },
    {
      "cell_type": "code",
      "source": [
        "df = pd.read_csv('/content/drive/MyDrive/Univerui/0 MAGISTRAS/tiriamasis/parsed_data/semi_clean.csv')"
      ],
      "metadata": {
        "id": "nlfGQH7APvyq"
      },
      "execution_count": null,
      "outputs": []
    },
    {
      "cell_type": "code",
      "source": [
        "df.dropna(axis=0, inplace=True)"
      ],
      "metadata": {
        "id": "qcIqzqFDQBPF"
      },
      "execution_count": null,
      "outputs": []
    },
    {
      "cell_type": "code",
      "source": [
        "from collections import Counter"
      ],
      "metadata": {
        "id": "o_fp3PvSLJwE"
      },
      "execution_count": null,
      "outputs": []
    },
    {
      "cell_type": "code",
      "source": [
        "df = df[~df['imones_aprasymas'].str.contains('viliošių')]"
      ],
      "metadata": {
        "id": "S3zQOu0cRqKW"
      },
      "execution_count": null,
      "outputs": []
    },
    {
      "cell_type": "code",
      "source": [
        "to_remove = ['įmonė', 'yra', 'lietuvoje', 'imonės', 'lietuvos', 'nuolat', 'metais', 'daugiau',\n",
        "             'tiek', 'esame', 'metų', 'todėl', 'įsikūrusi', 'galime', 'ivairių', 'veiklą', 'www', 'rajone',\n",
        "             'metu', 'pasiūlyti', 'gali', 'klausimais', 'patirtį', 'siūlome', 'teikia', 'europos', 'visoje',\n",
        "             'kaune', 'atliekame', 'rasti', 'siekiant', 'vilniuje', 'teikiame', 'dartuotojų',\n",
        "             'turi', 'tikslas', 'būti', 'bendrovė', 'pasitikėjimą', 'visų', 'šalyse', 'komanda', 'visus',\n",
        "             'geriausius', 'požiūris', 'leidžia', 'baltijos', 'laikotarpį', 'dirbame', 'užsienio', 'sėkmę',\n",
        "             'pelnė', 'siekdama', 'taptų', 'sėkmingai', 'buvo', 'vizijos', 'tobulėjo', 'tobulėja', 'taka',\n",
        "             'įkurta', 'realiais', 'turime', 'atlieka', 'galima', 'garantavo', 'šalių', 'visą', 'siūlo',\n",
        "             'galite', 'visos', 'visada', 'rasite', 'europoje', 'metus', 'greitai', 'vilniaus', 'siekiame',\n",
        "             'daug', 'kompanija', 'teikiamos', 'vilnius', 'labai', 'kainą', 'val', 'čia', 'visi', 'vykdo',\n",
        "             'teikianti', 'iso','atlikti', 'miesto', 'sudaro', 'kartu', 'laiką', 'bendrovės', 'pagrindinės',\n",
        "             'kauno', 'specializuojasi', 'klaipėdoje', 'užsienyje', 'pagrindinis', 'suteikti', 'užsiima',\n",
        "             'bus', 'latvijoje', 'įvairaus', 'and', 'šiandien', 'naudojant', 'kuo', 'gerai', 'adresas',\n",
        "             'asociacijos', 'klaipėdos', 'kompanijos', 'vietą', 'lietuva', 'gauti', 'repusblikos', 'tapti', 'grupė',\n",
        "             'geriausią', 'bendradarbiaujame', 'visiems', 'atliekami', 'atstovauja', 'atstovaujame', 'komandos', 'mieste', 'bull',\n",
        "             'darbas', 'vieną', 'estijoje', 'pan', 'visais', 'apima', 'dirbti', 'dirbanti', 'pagaminti', 'viso', 'the',\n",
        "             'jav', 'group', 'httpwww', 'vizija', 'nėra', 'tapo', 'ilgametė', 'didelį', 'klausimus', 'lietuvą', 'panevėžyje',\n",
        "             'parą', 'emailprotected', 'klaipėda', 'middot', 'viskas', 'skandinavijos', 'mini', 'buv', 'euro', 'com', 'svarbu',\n",
        "             'vokietijoje', 'nvs', 'facebook', 'kasdien', 'httpwww', 'pasižymi', 'viską', 'rytų', 'rinkai', 'liebherr', 'eur',\n",
        "             'google', 'tampa', 'ministerijos', 'nori', 'vsdfv', 'šilainių', 'del', 'ime', 'osstem', 'įmoių', 'ainių','plots',\n",
        "             'velcro', 'rolls', 'udiniis', 'royce', 'vihrovas', 'uku', 'prizinių', 'atvas', 'etools', 'compac', 'duktų', 'duktus',\n",
        "             'duktai', 'ėlės', 'self', 'sierra']"
      ],
      "metadata": {
        "id": "CRqDfvq5Os0K"
      },
      "execution_count": null,
      "outputs": []
    },
    {
      "cell_type": "code",
      "source": [
        "for k,v in counter.most_common():\n",
        "      if v < 3:\n",
        "        to_remove.append(k)"
      ],
      "metadata": {
        "id": "torPxWd7gR1-"
      },
      "execution_count": null,
      "outputs": []
    },
    {
      "cell_type": "code",
      "source": [
        "with open(\"abc\", 'w') as f:\n",
        "    for k,v in  counter.most_common():\n",
        "        f.write( \"{} {}\\n\".format(k,v) )"
      ],
      "metadata": {
        "id": "BsgkqEl8Q3wl"
      },
      "execution_count": null,
      "outputs": []
    },
    {
      "cell_type": "code",
      "source": [
        "to_remove = []\n",
        "\n",
        "with open('/content/drive/MyDrive/Univerui/0 MAGISTRAS/tiriamasis/abc(2)', 'r') as f:\n",
        "  for line in f:\n",
        "    to_remove.append(line.split()[0])"
      ],
      "metadata": {
        "id": "6v59Yif6wUj7"
      },
      "execution_count": null,
      "outputs": []
    },
    {
      "cell_type": "code",
      "source": [
        "def remove_(x):\n",
        "  x = x.split()\n",
        "  x = [i for i in x if i not in to_remove]\n",
        "  x = ' '.join(x)\n",
        "  x = re.sub(' +', ' ', x)\n",
        "  return x"
      ],
      "metadata": {
        "id": "p7nhQ6Z4e_Td"
      },
      "execution_count": null,
      "outputs": []
    },
    {
      "cell_type": "code",
      "source": [
        "df = pd.read_csv('/content/drive/MyDrive/Univerui/0 MAGISTRAS/tiriamasis/parsed_data/cleaned_corpus.csv')\n",
        "df = df.dropna(subset=[\"imones_aprasymas\"])\n",
        "df = df[~df['imones_aprasymas'].str.contains('viiošiai')]\n",
        "df = df[~df['imones_aprasymas'].str.contains('viiošių')]\n",
        "df['imones_aprasymas'] = df.imones_aprasymas.apply(lambda x: remove_(x))"
      ],
      "metadata": {
        "id": "yFLo6-JGwue6"
      },
      "execution_count": null,
      "outputs": []
    },
    {
      "cell_type": "code",
      "source": [
        "df['desc_len'] = df['imones_aprasymas'].str.count(r'\\w+')"
      ],
      "metadata": {
        "id": "4g6DrZswy6mr"
      },
      "execution_count": null,
      "outputs": []
    },
    {
      "cell_type": "code",
      "source": [
        "df = df[~(df.desc_len<2)]"
      ],
      "metadata": {
        "id": "2gOKrDIIy-xM"
      },
      "execution_count": null,
      "outputs": []
    },
    {
      "cell_type": "code",
      "source": [
        "df.to_csv('/content/drive/MyDrive/Univerui/0 MAGISTRAS/tiriamasis/parsed_data/description_dataset.csv', index=False)"
      ],
      "metadata": {
        "id": "mOJhod2rzd4z"
      },
      "execution_count": null,
      "outputs": []
    },
    {
      "cell_type": "code",
      "source": [
        "import pickle\n",
        "\n",
        "with open('/content/drive/MyDrive/Univerui/0 MAGISTRAS/tiriamasis/parsed_data/additional_stopwords', 'wb') as fp:\n",
        "    pickle.dump(to_remove, fp)"
      ],
      "metadata": {
        "id": "9QpE8ORq7nZy"
      },
      "execution_count": null,
      "outputs": []
    },
    {
      "cell_type": "code",
      "source": [
        "df['imones_aprasymas'] = df.imones_aprasymas.apply(lambda x: remove_(x))"
      ],
      "metadata": {
        "id": "lJLjOpHSfm1_"
      },
      "execution_count": null,
      "outputs": []
    },
    {
      "cell_type": "code",
      "source": [
        "df.to_csv('/content/drive/MyDrive/Univerui/0 MAGISTRAS/tiriamasis/parsed_data/cleaned_corpus.csv', index=False)"
      ],
      "metadata": {
        "id": "Mw41gJKjAB1Q"
      },
      "execution_count": null,
      "outputs": []
    },
    {
      "cell_type": "code",
      "source": [
        "corpus = []\n",
        "new = df['imones_aprasymas'].str.split().values.tolist()\n",
        "\n",
        "corpus = [word for i in new for word in i]\n",
        "\n",
        "counter= Counter(corpus)\n",
        "counter.most_common(40)"
      ],
      "metadata": {
        "id": "wjlHRnYiLTdV"
      },
      "execution_count": null,
      "outputs": []
    },
    {
      "cell_type": "code",
      "source": [],
      "metadata": {
        "id": "1bABJKe48sLd"
      },
      "execution_count": null,
      "outputs": []
    }
  ]
}