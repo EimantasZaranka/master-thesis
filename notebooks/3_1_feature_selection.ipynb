{
  "cells": [
    {
      "cell_type": "code",
      "execution_count": null,
      "metadata": {
        "colab": {
          "base_uri": "https://localhost:8080/"
        },
        "id": "9k7uCoyG-MLG",
        "outputId": "e9d6b13f-242d-4e64-ed42-4d889203f8a2"
      },
      "outputs": [
        {
          "output_type": "stream",
          "name": "stdout",
          "text": [
            "Mounted at /content/drive\n"
          ]
        }
      ],
      "source": [
        "from google.colab import drive\n",
        "drive.mount('/content/drive')"
      ]
    },
    {
      "cell_type": "code",
      "execution_count": null,
      "metadata": {
        "id": "L0ca86GQ-p5g"
      },
      "outputs": [],
      "source": [
        "import numpy as np\n",
        "import pandas as pd\n",
        "import ast\n",
        "import re\n",
        "import pickle as pk"
      ]
    },
    {
      "cell_type": "code",
      "execution_count": null,
      "metadata": {
        "id": "QDS1-dU6Puea"
      },
      "outputs": [],
      "source": [
        "PATH = '/content/drive/MyDrive/Univerui/0 MAGISTRAS/tiriamasis/komponentes/'"
      ]
    },
    {
      "cell_type": "code",
      "source": [
        "df = pd.read_csv('/content/drive/MyDrive/Univerui/0 MAGISTRAS/tiriamasis/parsed_data/full_dataset.csv')"
      ],
      "metadata": {
        "id": "oDh5A702ZumR"
      },
      "execution_count": null,
      "outputs": []
    },
    {
      "cell_type": "code",
      "source": [
        "df.Nace2.nunique(), df.gr_code.nunique(), df.gr_stat_letter.nunique(), df.gr_stat_code.nunique()"
      ],
      "metadata": {
        "colab": {
          "base_uri": "https://localhost:8080/"
        },
        "id": "NHDZDB8MaP8k",
        "outputId": "33dd1690-f175-44cd-d1ba-e280091bb12b"
      },
      "execution_count": null,
      "outputs": [
        {
          "output_type": "execute_result",
          "data": {
            "text/plain": [
              "(780, 64, 20, 82)"
            ]
          },
          "metadata": {},
          "execution_count": 5
        }
      ]
    },
    {
      "cell_type": "markdown",
      "metadata": {
        "id": "gG_dfTjhR-6w"
      },
      "source": [
        "# Preparing embeddings"
      ]
    },
    {
      "cell_type": "code",
      "execution_count": null,
      "metadata": {
        "id": "YpC_pTQv-S7i"
      },
      "outputs": [],
      "source": [
        "df = pd.read_csv(PATH+'data_with_embeddings.csv', sep=';')"
      ]
    },
    {
      "cell_type": "code",
      "execution_count": null,
      "metadata": {
        "id": "X5VEss7oBqaO"
      },
      "outputs": [],
      "source": [
        "def get_embeddings(method):\n",
        "  embeddings = []\n",
        "  for i in method:\n",
        "    if i[1] == ' ':\n",
        "      i = '['+i[2:]\n",
        "    emb = ast.literal_eval(re.sub(' +',' ',str(i).replace('\\n', '')).replace(' ', ', '))\n",
        "    embeddings.append(emb)\n",
        "\n",
        "  return embeddings"
      ]
    },
    {
      "cell_type": "code",
      "execution_count": null,
      "metadata": {
        "id": "SF9eVEasHa_0"
      },
      "outputs": [],
      "source": [
        "bert_embeddings = get_embeddings(df.bert_embeddings.tolist())"
      ]
    },
    {
      "cell_type": "code",
      "execution_count": null,
      "metadata": {
        "id": "gecj_DAfF-9J"
      },
      "outputs": [],
      "source": [
        "bert = pd.DataFrame(bert_embeddings)"
      ]
    },
    {
      "cell_type": "code",
      "execution_count": null,
      "metadata": {
        "id": "4tlDfBoHPmB-"
      },
      "outputs": [],
      "source": [
        "bert.to_csv(PATH+'bert_embeddings.csv', index=False)"
      ]
    },
    {
      "cell_type": "code",
      "execution_count": null,
      "metadata": {
        "id": "COGEaQc-QQXb"
      },
      "outputs": [],
      "source": [
        "labse_embeddings = get_embeddings(df.labse_embeddings.tolist())"
      ]
    },
    {
      "cell_type": "code",
      "execution_count": null,
      "metadata": {
        "id": "I95FDY1SQj_O"
      },
      "outputs": [],
      "source": [
        "labse = pd.DataFrame(labse_embeddings)\n",
        "labse.to_csv(PATH+'labse_embeddings.csv', index=False)"
      ]
    },
    {
      "cell_type": "markdown",
      "metadata": {
        "id": "z89JUAKySA7y"
      },
      "source": [
        "# Dimensionality Reduction"
      ]
    },
    {
      "cell_type": "markdown",
      "metadata": {
        "id": "GjgzZ-ZyYY7I"
      },
      "source": [
        "UMAP should be used after clustering to visualize clusters"
      ]
    },
    {
      "cell_type": "markdown",
      "metadata": {
        "id": "YzFz6-SISFXG"
      },
      "source": [
        "## PCA"
      ]
    },
    {
      "cell_type": "code",
      "execution_count": null,
      "metadata": {
        "id": "fi6-XdrjQ5vo"
      },
      "outputs": [],
      "source": [
        "from sklearn.decomposition import PCA\n",
        "\n",
        "PATH = '/content/drive/MyDrive/Univerui/0 MAGISTRAS/tiriamasis/komponentes/'\n",
        "\n",
        "for name, embeding in zip(['bert', 'labse'],[bert_embeddings, labse_embeddings]):\n",
        "  for component in [2, 5, 10, 50, 100, 300]:\n",
        "    pca = PCA(n_components=component)\n",
        "    result = pca.fit_transform(embeding)\n",
        "    pk.dump(pca, open(PATH+f\"{name}/pca/{component}.pkl\",\"wb\"))\n",
        "    pd.DataFrame(result).to_csv(PATH+f\"{name}/pca/{component}.csv\", index=False)"
      ]
    },
    {
      "cell_type": "markdown",
      "metadata": {
        "id": "UjNGpApYPXBc"
      },
      "source": [
        "## PCA Analysis"
      ]
    },
    {
      "cell_type": "code",
      "execution_count": null,
      "metadata": {
        "id": "of-8GRlPY5yr"
      },
      "outputs": [],
      "source": [
        "pca = pk.load(open(f\"{PATH}bert/pca/300.pkl\",'rb'))"
      ]
    },
    {
      "cell_type": "code",
      "execution_count": null,
      "metadata": {
        "colab": {
          "base_uri": "https://localhost:8080/",
          "height": 495
        },
        "id": "ZgiBZs17P5sq",
        "outputId": "07168385-63fc-4212-dedf-c5e6d8005538"
      },
      "outputs": [
        {
          "data": {
            "image/png": "[encoded data removed]",
            "text/plain": [
              "<Figure size 2400x600 with 1 Axes>"
            ]
          },
          "metadata": {},
          "output_type": "display_data"
        }
      ],
      "source": [
        "import matplotlib.pyplot as plt\n",
        "plt.rcParams[\"figure.figsize\"] = (24,6)\n",
        "\n",
        "fig, ax = plt.subplots()\n",
        "xi = np.arange(1, 301, step=1)\n",
        "y = np.cumsum(pca.explained_variance_ratio_)\n",
        "\n",
        "plt.ylim(0.0,1.1)\n",
        "plt.plot(xi, y, marker='o', linestyle='--', color='b')\n",
        "\n",
        "plt.axhline(y=0.95, color='r', linestyle='-')\n",
        "plt.text(0.5, 0.85, '95% cut-off threshold', color = 'red', fontsize=16)\n",
        "\n",
        "ax.grid(axis='x')\n",
        "plt.show()"
      ]
    },
    {
      "cell_type": "code",
      "execution_count": null,
      "metadata": {
        "colab": {
          "base_uri": "https://localhost:8080/",
          "height": 495
        },
        "id": "OxXMiapkRJmb",
        "outputId": "da70fa12-1af4-4f8c-b274-b4041ae1d069"
      },
      "outputs": [
        {
          "data": {
            "image/png": "[encoded data removed]",
            "text/plain": [
              "<Figure size 2400x600 with 1 Axes>"
            ]
          },
          "metadata": {},
          "output_type": "display_data"
        }
      ],
      "source": [
        "fig, ax = plt.subplots()\n",
        "xi = np.arange(1, 301, step=1)\n",
        "y = np.cumsum(pca.explained_variance_ratio_)\n",
        "\n",
        "plt.ylim(0.0,1.1)\n",
        "plt.plot(xi, y, marker='o', linestyle='--', color='b')\n",
        "plt.xlim(200,301)\n",
        "plt.axhline(y=0.95, color='r', linestyle='-')\n",
        "plt.text(200.5, 0.85, '95% cut-off threshold', color = 'red', fontsize=16)\n",
        "\n",
        "ax.grid(axis='x')\n",
        "plt.show()"
      ]
    },
    {
      "cell_type": "code",
      "execution_count": null,
      "metadata": {
        "colab": {
          "base_uri": "https://localhost:8080/"
        },
        "id": "nOPznC2rRNlk",
        "outputId": "96924d3c-16a8-4f5a-80dc-dc546c0c6644"
      },
      "outputs": [
        {
          "name": "stdout",
          "output_type": "stream",
          "text": [
            "PCA Overview\n",
            "========================================\n",
            "Total: 300 components\n",
            "----------------------------------------\n",
            "Mean explained variance: 0.003\n",
            "----------------------------------------\n",
            "     explained variance  cumulative\n",
            "221            0.000472    0.947330\n",
            "222            0.000464    0.947795\n",
            "223            0.000463    0.948258\n",
            "224            0.000457    0.948715\n",
            "225            0.000455    0.949170\n",
            "226            0.000453    0.949623\n",
            "227            0.000449    0.950072\n",
            "228            0.000440    0.950512\n",
            "229            0.000438    0.950950\n",
            "230            0.000435    0.951385\n",
            "----------------------------------------\n"
          ]
        }
      ],
      "source": [
        "n_components = len(pca.explained_variance_ratio_)\n",
        "explained_variance = pca.explained_variance_ratio_\n",
        "cum_explained_variance = np.cumsum(explained_variance)\n",
        "idx = np.arange(n_components)+1\n",
        "df_explained_variance = pd.DataFrame([explained_variance, cum_explained_variance],\n",
        "                                     index=['explained variance', 'cumulative'],\n",
        "                                     columns=idx).T\n",
        "mean_explained_variance = df_explained_variance.iloc[:,0].mean() # calculate mean explained variance# (iii.) Print explained variance as plain text\n",
        "print('PCA Overview')\n",
        "print('='*40)\n",
        "print(\"Total: {} components\".format(n_components))\n",
        "print('-'*40)\n",
        "print('Mean explained variance:', round(mean_explained_variance,3))\n",
        "print('-'*40)\n",
        "print(df_explained_variance.iloc[220:230])\n",
        "print('-'*40)"
      ]
    },
    {
      "cell_type": "code",
      "execution_count": null,
      "metadata": {
        "colab": {
          "base_uri": "https://localhost:8080/",
          "height": 495
        },
        "id": "tCP4NASjROa1",
        "outputId": "5f3710db-d386-4b7a-f363-ffe8ef02882c"
      },
      "outputs": [
        {
          "data": {
            "image/png": "[encoded data removed]",
            "text/plain": [
              "<Figure size 2400x600 with 1 Axes>"
            ]
          },
          "metadata": {},
          "output_type": "display_data"
        }
      ],
      "source": [
        "pca = pk.load(open(f\"{PATH}labse/pca/300.pkl\",'rb'))\n",
        "\n",
        "fig, ax = plt.subplots()\n",
        "xi = np.arange(1, 301, step=1)\n",
        "y = np.cumsum(pca.explained_variance_ratio_)\n",
        "\n",
        "plt.ylim(0.0,1.1)\n",
        "plt.plot(xi, y, marker='o', linestyle='--', color='b')\n",
        "\n",
        "plt.axhline(y=0.95, color='r', linestyle='-')\n",
        "plt.text(0.5, 0.85, '95% cut-off threshold', color = 'red', fontsize=16)\n",
        "\n",
        "ax.grid(axis='x')\n",
        "plt.show()"
      ]
    },
    {
      "cell_type": "code",
      "execution_count": null,
      "metadata": {
        "colab": {
          "base_uri": "https://localhost:8080/",
          "height": 492
        },
        "id": "LwZ49JnpSyoS",
        "outputId": "447b99d5-9f93-4f46-92b0-e735a9e51891"
      },
      "outputs": [
        {
          "data": {
            "image/png": "[encoded data removed]",
            "text/plain": [
              "<Figure size 2400x600 with 1 Axes>"
            ]
          },
          "metadata": {},
          "output_type": "display_data"
        }
      ],
      "source": [
        "fig, ax = plt.subplots()\n",
        "xi = np.arange(1, 301, step=1)\n",
        "y = np.cumsum(pca.explained_variance_ratio_)\n",
        "\n",
        "plt.ylim(0.0,1.1)\n",
        "plt.plot(xi, y, marker='o', linestyle='--', color='b')\n",
        "plt.xlim(140,220)\n",
        "plt.axhline(y=0.95, color='r', linestyle='-')\n",
        "plt.text(150.5, 0.85, '95% cut-off threshold', color = 'red', fontsize=16)\n",
        "\n",
        "ax.grid(axis='x')\n",
        "plt.show()"
      ]
    },
    {
      "cell_type": "code",
      "execution_count": null,
      "metadata": {
        "colab": {
          "base_uri": "https://localhost:8080/"
        },
        "id": "afj2EuL8S6_y",
        "outputId": "5b2d6dfc-dc81-4ae6-94c1-8ada880ca087"
      },
      "outputs": [
        {
          "name": "stdout",
          "output_type": "stream",
          "text": [
            "PCA Overview\n",
            "========================================\n",
            "Total: 300 components\n",
            "----------------------------------------\n",
            "Mean explained variance: 0.003\n",
            "----------------------------------------\n",
            "     explained variance  cumulative\n",
            "141            0.001166    0.936820\n",
            "142            0.001139    0.937959\n",
            "143            0.001123    0.939082\n",
            "144            0.001116    0.940198\n",
            "145            0.001105    0.941304\n",
            "146            0.001081    0.942384\n",
            "147            0.001056    0.943441\n",
            "148            0.001031    0.944471\n",
            "149            0.001025    0.945497\n",
            "150            0.000994    0.946490\n",
            "151            0.000977    0.947467\n",
            "152            0.000948    0.948415\n",
            "153            0.000946    0.949361\n",
            "154            0.000922    0.950283\n",
            "155            0.000911    0.951194\n",
            "156            0.000899    0.952093\n",
            "157            0.000882    0.952975\n",
            "158            0.000867    0.953842\n",
            "159            0.000859    0.954701\n",
            "160            0.000823    0.955524\n",
            "161            0.000803    0.956327\n",
            "162            0.000795    0.957122\n",
            "163            0.000774    0.957897\n",
            "164            0.000766    0.958663\n",
            "165            0.000727    0.959390\n",
            "166            0.000723    0.960113\n",
            "167            0.000700    0.960813\n",
            "168            0.000698    0.961511\n",
            "169            0.000683    0.962193\n",
            "170            0.000663    0.962857\n",
            "----------------------------------------\n"
          ]
        }
      ],
      "source": [
        "n_components = len(pca.explained_variance_ratio_)\n",
        "explained_variance = pca.explained_variance_ratio_\n",
        "cum_explained_variance = np.cumsum(explained_variance)\n",
        "idx = np.arange(n_components)+1\n",
        "df_explained_variance = pd.DataFrame([explained_variance, cum_explained_variance],\n",
        "                                     index=['explained variance', 'cumulative'],\n",
        "                                     columns=idx).T\n",
        "mean_explained_variance = df_explained_variance.iloc[:,0].mean() # calculate mean explained variance# (iii.) Print explained variance as plain text\n",
        "print('PCA Overview')\n",
        "print('='*40)\n",
        "print(\"Total: {} components\".format(n_components))\n",
        "print('-'*40)\n",
        "print('Mean explained variance:', round(mean_explained_variance,3))\n",
        "print('-'*40)\n",
        "print(df_explained_variance.iloc[140:170])\n",
        "print('-'*40)"
      ]
    },
    {
      "cell_type": "markdown",
      "metadata": {
        "id": "FZOaD_gIWHBm"
      },
      "source": [
        "# Clustering experiments"
      ]
    },
    {
      "cell_type": "code",
      "execution_count": null,
      "metadata": {
        "id": "Qrbv8L0JVnRF"
      },
      "outputs": [],
      "source": [
        "labse_pca = pd.read_csv(f\"{PATH}labse/pca/300.csv\")\n",
        "bert_pca = pd.read_csv(f\"{PATH}bert/pca/300.csv\")"
      ]
    },
    {
      "cell_type": "code",
      "execution_count": null,
      "metadata": {
        "id": "Qfc1bp7-WPge"
      },
      "outputs": [],
      "source": [
        "bert_pca = bert_pca.iloc[:,:227]\n",
        "labse_pca = labse_pca.iloc[:,:154]"
      ]
    },
    {
      "cell_type": "code",
      "execution_count": null,
      "metadata": {
        "id": "wvV6BI1JW3bO"
      },
      "outputs": [],
      "source": [
        "from sklearn.cluster import KMeans\n",
        "from sklearn.metrics import silhouette_score, calinski_harabasz_score, jaccard_score, davies_bouldin_score"
      ]
    },
    {
      "cell_type": "markdown",
      "metadata": {
        "id": "gRiSG5-SXO2g"
      },
      "source": [
        "## Bert Embeddings"
      ]
    },
    {
      "cell_type": "markdown",
      "metadata": {
        "id": "EyPz1hEndJXn"
      },
      "source": [
        "### kmeans"
      ]
    },
    {
      "cell_type": "code",
      "execution_count": null,
      "metadata": {
        "colab": {
          "base_uri": "https://localhost:8080/"
        },
        "id": "T2nCgPvxXLG9",
        "outputId": "56910208-4104-4941-d7bc-db2afe2a0df8"
      },
      "outputs": [
        {
          "name": "stderr",
          "output_type": "stream",
          "text": [
            "/usr/local/lib/python3.10/dist-packages/sklearn/cluster/_kmeans.py:870: FutureWarning: The default value of `n_init` will change from 10 to 'auto' in 1.4. Set the value of `n_init` explicitly to suppress the warning\n",
            "  warnings.warn(\n"
          ]
        }
      ],
      "source": [
        "bert_kmeans = KMeans(n_clusters=20, random_state=42).fit(bert_pca)\n",
        "bert_kmeans_preds = bert_kmeans.predict(bert_pca)"
      ]
    },
    {
      "cell_type": "code",
      "execution_count": null,
      "metadata": {
        "colab": {
          "base_uri": "https://localhost:8080/"
        },
        "id": "Jza--K6gXd7u",
        "outputId": "837deb72-b128-479c-d64b-6c55537ae566"
      },
      "outputs": [
        {
          "name": "stdout",
          "output_type": "stream",
          "text": [
            "Silhouette Score: 0.04747595819859267\n",
            "Calinski Harabasz Score: 702.2997733345718\n",
            "Davies Bouldin Score: 3.2552473792863656\n"
          ]
        }
      ],
      "source": [
        "print(f\"Silhouette Score: {silhouette_score(bert_pca, bert_kmeans_preds)}\")\n",
        "print(f\"Calinski Harabasz Score: {calinski_harabasz_score(bert_pca, bert_kmeans_preds)}\")\n",
        "print(f\"Davies Bouldin Score: {davies_bouldin_score(bert_pca, bert_kmeans_preds)}\")"
      ]
    },
    {
      "cell_type": "code",
      "execution_count": null,
      "metadata": {
        "colab": {
          "base_uri": "https://localhost:8080/"
        },
        "id": "UzVnBww6bhw3",
        "outputId": "863351f5-2daa-4908-feee-9bef95d29b14"
      },
      "outputs": [
        {
          "name": "stderr",
          "output_type": "stream",
          "text": [
            "/usr/local/lib/python3.10/dist-packages/sklearn/cluster/_kmeans.py:870: FutureWarning: The default value of `n_init` will change from 10 to 'auto' in 1.4. Set the value of `n_init` explicitly to suppress the warning\n",
            "  warnings.warn(\n"
          ]
        },
        {
          "name": "stdout",
          "output_type": "stream",
          "text": [
            "Silhouette Score: 0.0591775922618861\n",
            "Calinski Harabasz Score: 44.91893382371633\n",
            "Davies Bouldin Score: 2.9031376861030145\n"
          ]
        }
      ],
      "source": [
        "kmeans = KMeans(n_clusters=780, random_state=42).fit(bert_pca)\n",
        "kmeans_preds = kmeans.predict(bert_pca)\n",
        "\n",
        "print(f\"Silhouette Score: {silhouette_score(bert_pca, kmeans_preds)}\")\n",
        "print(f\"Calinski Harabasz Score: {calinski_harabasz_score(bert_pca, kmeans_preds)}\")\n",
        "print(f\"Davies Bouldin Score: {davies_bouldin_score(bert_pca, kmeans_preds)}\")"
      ]
    },
    {
      "cell_type": "markdown",
      "metadata": {
        "id": "w3stqDpAdLvt"
      },
      "source": [
        "### Affinity propogation"
      ]
    },
    {
      "cell_type": "code",
      "execution_count": null,
      "metadata": {
        "id": "2Dl9k4IFdO5Z"
      },
      "outputs": [],
      "source": [
        "from sklearn.cluster import AffinityPropagation\n",
        "\n",
        "bert_ap = AffinityPropagation(random_state=42).fit(bert_pca)\n",
        "bert_ap_preds = bert_ap.predict(bert_pca)\n",
        "\n",
        "print(f\"Silhouette Score: {silhouette_score(bert_pca, bert_ap_preds)}\")\n",
        "print(f\"Calinski Harabasz Score: {calinski_harabasz_score(bert_pca, bert_ap_preds)}\")\n",
        "print(f\"Davies Bouldin Score: {davies_bouldin_score(bert_pca, bert_ap_preds)}\")"
      ]
    },
    {
      "cell_type": "markdown",
      "metadata": {
        "id": "H0kGnu4Zdkp0"
      },
      "source": [
        "### AgglomerativeClustering"
      ]
    },
    {
      "cell_type": "code",
      "execution_count": null,
      "metadata": {
        "colab": {
          "base_uri": "https://localhost:8080/"
        },
        "id": "4hMVFAO0dwIX",
        "outputId": "ef160a1f-b477-4cfc-880e-53e805ec6cb2"
      },
      "outputs": [
        {
          "name": "stdout",
          "output_type": "stream",
          "text": [
            "Silhouette Score: 0.013998107763648874\n",
            "Calinski Harabasz Score: 539.9708009803442\n",
            "Davies Bouldin Score: 3.548196381896601\n"
          ]
        }
      ],
      "source": [
        "from sklearn.cluster import AgglomerativeClustering\n",
        "\n",
        "bert_agc = AgglomerativeClustering(n_clusters=20).fit(bert_pca)\n",
        "\n",
        "print(f\"Silhouette Score: {silhouette_score(bert_pca, bert_agc.labels_)}\")\n",
        "print(f\"Calinski Harabasz Score: {calinski_harabasz_score(bert_pca, bert_agc.labels_)}\")\n",
        "print(f\"Davies Bouldin Score: {davies_bouldin_score(bert_pca, bert_agc.labels_)}\")"
      ]
    },
    {
      "cell_type": "markdown",
      "metadata": {
        "id": "MLHqdy-ze1mP"
      },
      "source": [
        "### MiniBatch Kmeans"
      ]
    },
    {
      "cell_type": "code",
      "execution_count": null,
      "metadata": {
        "colab": {
          "base_uri": "https://localhost:8080/"
        },
        "id": "Xgfobu5Re3gA",
        "outputId": "1c694442-8fb8-429f-bf7a-8bb6ea57ae41"
      },
      "outputs": [
        {
          "name": "stdout",
          "output_type": "stream",
          "text": [
            "Silhouette Score: 0.035638320258634525\n",
            "Calinski Harabasz Score: 642.8329456711595\n",
            "Davies Bouldin Score: 3.12564643695261\n"
          ]
        }
      ],
      "source": [
        "from sklearn.cluster import MiniBatchKMeans\n",
        "\n",
        "bert_mini_kmeans = MiniBatchKMeans(n_clusters=20,\n",
        "                        random_state=0,\n",
        "                        batch_size=6,\n",
        "                        max_iter=10,\n",
        "                        n_init=\"auto\").fit(bert_pca)\n",
        "\n",
        "bert_mini_preds = bert_mini_kmeans.predict(bert_pca)\n",
        "\n",
        "print(f\"Silhouette Score: {silhouette_score(bert_pca, bert_mini_preds)}\")\n",
        "print(f\"Calinski Harabasz Score: {calinski_harabasz_score(bert_pca, bert_mini_preds)}\")\n",
        "print(f\"Davies Bouldin Score: {davies_bouldin_score(bert_pca, bert_mini_preds)}\")"
      ]
    },
    {
      "cell_type": "markdown",
      "metadata": {
        "id": "tmk6oaONfmfx"
      },
      "source": [
        "### Spectral Clustering"
      ]
    },
    {
      "cell_type": "code",
      "execution_count": null,
      "metadata": {
        "id": "zjwLddaFfpqG"
      },
      "outputs": [],
      "source": [
        "from sklearn.cluster import SpectralClustering\n",
        "\n",
        "bert_spec_clust = SpectralClustering(n_clusters=20, random_state=42).fit(bert_pca)\n",
        "\n",
        "print(f\"Silhouette Score: {silhouette_score(bert_pca, bert_spec_clust.labels_)}\")\n",
        "print(f\"Calinski Harabasz Score: {calinski_harabasz_score(bert_pca, bert_spec_clust.labels_)}\")\n",
        "print(f\"Davies Bouldin Score: {davies_bouldin_score(bert_pca, bert_spec_clust.labels_)}\")"
      ]
    },
    {
      "cell_type": "markdown",
      "metadata": {
        "id": "SOkL0AvJX2Or"
      },
      "source": [
        "## LaBSE Embeddings"
      ]
    },
    {
      "cell_type": "markdown",
      "metadata": {
        "id": "dYr-Z9BlggHo"
      },
      "source": [
        "### Kmeans"
      ]
    },
    {
      "cell_type": "code",
      "execution_count": null,
      "metadata": {
        "colab": {
          "base_uri": "https://localhost:8080/"
        },
        "id": "627mz3cCX5BT",
        "outputId": "4cc0660e-02ae-41f7-fe69-59ae14b7f21e"
      },
      "outputs": [
        {
          "name": "stderr",
          "output_type": "stream",
          "text": [
            "/usr/local/lib/python3.10/dist-packages/sklearn/cluster/_kmeans.py:870: FutureWarning: The default value of `n_init` will change from 10 to 'auto' in 1.4. Set the value of `n_init` explicitly to suppress the warning\n",
            "  warnings.warn(\n"
          ]
        }
      ],
      "source": [
        "labse_kmeans = KMeans(n_clusters=20, random_state=42).fit(labse_pca)\n",
        "labse_kmeans_preds = labse_kmeans.predict(labse_pca)"
      ]
    },
    {
      "cell_type": "code",
      "execution_count": null,
      "metadata": {
        "colab": {
          "base_uri": "https://localhost:8080/"
        },
        "id": "VSwDKTHYYcDt",
        "outputId": "a9f9dd3e-24ae-4fb1-cdaf-865a4b2b1358"
      },
      "outputs": [
        {
          "name": "stdout",
          "output_type": "stream",
          "text": [
            "Silhouette Score: 0.05645533209383495\n",
            "Calinski Harabasz Score: 537.188405029713\n",
            "Davies Bouldin Score: 3.260995343527649\n"
          ]
        }
      ],
      "source": [
        "print(f\"Silhouette Score: {silhouette_score(labse_pca, labse_kmeans_preds)}\")\n",
        "print(f\"Calinski Harabasz Score: {calinski_harabasz_score(labse_pca, labse_kmeans_preds)}\")\n",
        "print(f\"Davies Bouldin Score: {davies_bouldin_score(labse_pca, labse_kmeans_preds)}\")"
      ]
    },
    {
      "cell_type": "markdown",
      "metadata": {
        "id": "U1NnBMFFghoq"
      },
      "source": [
        "### AgglomerativeClustering"
      ]
    },
    {
      "cell_type": "code",
      "execution_count": null,
      "metadata": {
        "colab": {
          "base_uri": "https://localhost:8080/"
        },
        "id": "suZMJPujchPf",
        "outputId": "d5ffa454-7fc1-4422-b241-4ffd4e709ff3"
      },
      "outputs": [
        {
          "name": "stdout",
          "output_type": "stream",
          "text": [
            "Silhouette Score: 0.020482525945248617\n",
            "Calinski Harabasz Score: 389.84617666285004\n",
            "Davies Bouldin Score: 3.6751612520174546\n"
          ]
        }
      ],
      "source": [
        "from sklearn.cluster import AgglomerativeClustering\n",
        "\n",
        "labse_agc = AgglomerativeClustering(n_clusters=20).fit(labse_pca)\n",
        "\n",
        "print(f\"Silhouette Score: {silhouette_score(labse_pca, labse_agc.labels_)}\")\n",
        "print(f\"Calinski Harabasz Score: {calinski_harabasz_score(labse_pca, labse_agc.labels_)}\")\n",
        "print(f\"Davies Bouldin Score: {davies_bouldin_score(labse_pca, labse_agc.labels_)}\")"
      ]
    },
    {
      "cell_type": "markdown",
      "metadata": {
        "id": "R3SI9nW6grpo"
      },
      "source": [
        "### MiniBatchKMeans"
      ]
    },
    {
      "cell_type": "code",
      "execution_count": null,
      "metadata": {
        "colab": {
          "base_uri": "https://localhost:8080/"
        },
        "id": "ynXhuyiLgrPE",
        "outputId": "e2ac62f3-3187-4172-e692-8cf0ac313249"
      },
      "outputs": [
        {
          "name": "stdout",
          "output_type": "stream",
          "text": [
            "Silhouette Score: 0.05459761978888674\n",
            "Calinski Harabasz Score: 512.9424747593558\n",
            "Davies Bouldin Score: 3.3075809459018473\n"
          ]
        }
      ],
      "source": [
        "from sklearn.cluster import MiniBatchKMeans\n",
        "\n",
        "labse_mini_kmeans = MiniBatchKMeans(n_clusters=20,\n",
        "                        random_state=0,\n",
        "                        batch_size=6,\n",
        "                        max_iter=10,\n",
        "                        n_init=\"auto\").fit(labse_pca)\n",
        "\n",
        "labse_mini_preds = labse_mini_kmeans.predict(labse_pca)\n",
        "\n",
        "print(f\"Silhouette Score: {silhouette_score(labse_pca, labse_mini_preds)}\")\n",
        "print(f\"Calinski Harabasz Score: {calinski_harabasz_score(labse_pca, labse_mini_preds)}\")\n",
        "print(f\"Davies Bouldin Score: {davies_bouldin_score(labse_pca, labse_mini_preds)}\")"
      ]
    },
    {
      "cell_type": "code",
      "execution_count": null,
      "metadata": {
        "colab": {
          "base_uri": "https://localhost:8080/"
        },
        "id": "ymjmwzTeiVea",
        "outputId": "cdc4200d-6fa0-415d-ebad-68218bf4604b"
      },
      "outputs": [
        {
          "name": "stdout",
          "output_type": "stream",
          "text": [
            "Silhouette Score: 0.023355036316994607\n"
          ]
        }
      ],
      "source": [
        "print(f\"Silhouette Score: {silhouette_score(labse_pca, labse_mini_preds, metric='manhattan')}\")"
      ]
    },
    {
      "cell_type": "code",
      "execution_count": null,
      "metadata": {
        "colab": {
          "base_uri": "https://localhost:8080/"
        },
        "id": "qzhlRUryicHB",
        "outputId": "af246700-6835-437d-cea7-07fbad5fc003"
      },
      "outputs": [
        {
          "name": "stdout",
          "output_type": "stream",
          "text": [
            "Silhouette Score: 0.08494593765055507\n"
          ]
        }
      ],
      "source": [
        "print(f\"Silhouette Score: {silhouette_score(labse_pca, labse_mini_preds, metric='chebyshev')}\")"
      ]
    },
    {
      "cell_type": "code",
      "execution_count": null,
      "metadata": {
        "colab": {
          "base_uri": "https://localhost:8080/"
        },
        "id": "z_Nw-OSViqhc",
        "outputId": "4e010c40-6b2d-4db1-e614-10f60e4565f3"
      },
      "outputs": [
        {
          "name": "stdout",
          "output_type": "stream",
          "text": [
            "Silhouette Score: 0.05459761979387081\n"
          ]
        }
      ],
      "source": [
        "print(f\"Silhouette Score: {silhouette_score(labse_pca, labse_mini_preds, metric='minkowski')}\")"
      ]
    },
    {
      "cell_type": "code",
      "execution_count": null,
      "metadata": {
        "colab": {
          "base_uri": "https://localhost:8080/"
        },
        "id": "hJNlFz-ziqdB",
        "outputId": "c11d325e-9c81-4efc-ee7f-42f9e41b6c90"
      },
      "outputs": [
        {
          "name": "stdout",
          "output_type": "stream",
          "text": [
            "Silhouette Score: -0.022650836843624306\n"
          ]
        }
      ],
      "source": [
        "print(f\"Silhouette Score: {silhouette_score(labse_pca, labse_mini_preds, metric='seuclidean')}\")"
      ]
    },
    {
      "cell_type": "code",
      "execution_count": null,
      "metadata": {
        "colab": {
          "background_save": true
        },
        "id": "1zhBKPL0iqR0",
        "outputId": "52ce313e-7a07-41a2-e294-a84625c85c36"
      },
      "outputs": [
        {
          "ename": "KeyboardInterrupt",
          "evalue": "",
          "output_type": "error",
          "traceback": [
            "\u001b[0;31m---------------------------------------------------------------------------\u001b[0m",
            "\u001b[0;31mKeyboardInterrupt\u001b[0m                         Traceback (most recent call last)",
            "\u001b[0;32m<ipython-input-13-e4d50a18e800>\u001b[0m in \u001b[0;36m<cell line: 1>\u001b[0;34m()\u001b[0m\n\u001b[0;32m----> 1\u001b[0;31m \u001b[0mprint\u001b[0m\u001b[0;34m(\u001b[0m\u001b[0;34mf\"Silhouette Score: {silhouette_score(labse_pca, labse_mini_preds, metric='mahalanobis')}\"\u001b[0m\u001b[0;34m)\u001b[0m\u001b[0;34m\u001b[0m\u001b[0;34m\u001b[0m\u001b[0m\n\u001b[0m",
            "\u001b[0;32m/usr/local/lib/python3.10/dist-packages/sklearn/metrics/cluster/_unsupervised.py\u001b[0m in \u001b[0;36msilhouette_score\u001b[0;34m(X, labels, metric, sample_size, random_state, **kwds)\u001b[0m\n\u001b[1;32m    115\u001b[0m         \u001b[0;32melse\u001b[0m\u001b[0;34m:\u001b[0m\u001b[0;34m\u001b[0m\u001b[0;34m\u001b[0m\u001b[0m\n\u001b[1;32m    116\u001b[0m             \u001b[0mX\u001b[0m\u001b[0;34m,\u001b[0m \u001b[0mlabels\u001b[0m \u001b[0;34m=\u001b[0m \u001b[0mX\u001b[0m\u001b[0;34m[\u001b[0m\u001b[0mindices\u001b[0m\u001b[0;34m]\u001b[0m\u001b[0;34m,\u001b[0m \u001b[0mlabels\u001b[0m\u001b[0;34m[\u001b[0m\u001b[0mindices\u001b[0m\u001b[0;34m]\u001b[0m\u001b[0;34m\u001b[0m\u001b[0;34m\u001b[0m\u001b[0m\n\u001b[0;32m--> 117\u001b[0;31m     \u001b[0;32mreturn\u001b[0m \u001b[0mnp\u001b[0m\u001b[0;34m.\u001b[0m\u001b[0mmean\u001b[0m\u001b[0;34m(\u001b[0m\u001b[0msilhouette_samples\u001b[0m\u001b[0;34m(\u001b[0m\u001b[0mX\u001b[0m\u001b[0;34m,\u001b[0m \u001b[0mlabels\u001b[0m\u001b[0;34m,\u001b[0m \u001b[0mmetric\u001b[0m\u001b[0;34m=\u001b[0m\u001b[0mmetric\u001b[0m\u001b[0;34m,\u001b[0m \u001b[0;34m**\u001b[0m\u001b[0mkwds\u001b[0m\u001b[0;34m)\u001b[0m\u001b[0;34m)\u001b[0m\u001b[0;34m\u001b[0m\u001b[0;34m\u001b[0m\u001b[0m\n\u001b[0m\u001b[1;32m    118\u001b[0m \u001b[0;34m\u001b[0m\u001b[0m\n\u001b[1;32m    119\u001b[0m \u001b[0;34m\u001b[0m\u001b[0m\n",
            "\u001b[0;32m/usr/local/lib/python3.10/dist-packages/sklearn/metrics/cluster/_unsupervised.py\u001b[0m in \u001b[0;36msilhouette_samples\u001b[0;34m(X, labels, metric, **kwds)\u001b[0m\n\u001b[1;32m    235\u001b[0m         \u001b[0m_silhouette_reduce\u001b[0m\u001b[0;34m,\u001b[0m \u001b[0mlabels\u001b[0m\u001b[0;34m=\u001b[0m\u001b[0mlabels\u001b[0m\u001b[0;34m,\u001b[0m \u001b[0mlabel_freqs\u001b[0m\u001b[0;34m=\u001b[0m\u001b[0mlabel_freqs\u001b[0m\u001b[0;34m\u001b[0m\u001b[0;34m\u001b[0m\u001b[0m\n\u001b[1;32m    236\u001b[0m     )\n\u001b[0;32m--> 237\u001b[0;31m     \u001b[0mresults\u001b[0m \u001b[0;34m=\u001b[0m \u001b[0mzip\u001b[0m\u001b[0;34m(\u001b[0m\u001b[0;34m*\u001b[0m\u001b[0mpairwise_distances_chunked\u001b[0m\u001b[0;34m(\u001b[0m\u001b[0mX\u001b[0m\u001b[0;34m,\u001b[0m \u001b[0mreduce_func\u001b[0m\u001b[0;34m=\u001b[0m\u001b[0mreduce_func\u001b[0m\u001b[0;34m,\u001b[0m \u001b[0;34m**\u001b[0m\u001b[0mkwds\u001b[0m\u001b[0;34m)\u001b[0m\u001b[0;34m)\u001b[0m\u001b[0;34m\u001b[0m\u001b[0;34m\u001b[0m\u001b[0m\n\u001b[0m\u001b[1;32m    238\u001b[0m     \u001b[0mintra_clust_dists\u001b[0m\u001b[0;34m,\u001b[0m \u001b[0minter_clust_dists\u001b[0m \u001b[0;34m=\u001b[0m \u001b[0mresults\u001b[0m\u001b[0;34m\u001b[0m\u001b[0;34m\u001b[0m\u001b[0m\n\u001b[1;32m    239\u001b[0m     \u001b[0mintra_clust_dists\u001b[0m \u001b[0;34m=\u001b[0m \u001b[0mnp\u001b[0m\u001b[0;34m.\u001b[0m\u001b[0mconcatenate\u001b[0m\u001b[0;34m(\u001b[0m\u001b[0mintra_clust_dists\u001b[0m\u001b[0;34m)\u001b[0m\u001b[0;34m\u001b[0m\u001b[0;34m\u001b[0m\u001b[0m\n",
            "\u001b[0;32m/usr/local/lib/python3.10/dist-packages/sklearn/metrics/pairwise.py\u001b[0m in \u001b[0;36mpairwise_distances_chunked\u001b[0;34m(X, Y, reduce_func, metric, n_jobs, working_memory, **kwds)\u001b[0m\n\u001b[1;32m   1865\u001b[0m         \u001b[0;32melse\u001b[0m\u001b[0;34m:\u001b[0m\u001b[0;34m\u001b[0m\u001b[0;34m\u001b[0m\u001b[0m\n\u001b[1;32m   1866\u001b[0m             \u001b[0mX_chunk\u001b[0m \u001b[0;34m=\u001b[0m \u001b[0mX\u001b[0m\u001b[0;34m[\u001b[0m\u001b[0msl\u001b[0m\u001b[0;34m]\u001b[0m\u001b[0;34m\u001b[0m\u001b[0;34m\u001b[0m\u001b[0m\n\u001b[0;32m-> 1867\u001b[0;31m         \u001b[0mD_chunk\u001b[0m \u001b[0;34m=\u001b[0m \u001b[0mpairwise_distances\u001b[0m\u001b[0;34m(\u001b[0m\u001b[0mX_chunk\u001b[0m\u001b[0;34m,\u001b[0m \u001b[0mY\u001b[0m\u001b[0;34m,\u001b[0m \u001b[0mmetric\u001b[0m\u001b[0;34m=\u001b[0m\u001b[0mmetric\u001b[0m\u001b[0;34m,\u001b[0m \u001b[0mn_jobs\u001b[0m\u001b[0;34m=\u001b[0m\u001b[0mn_jobs\u001b[0m\u001b[0;34m,\u001b[0m \u001b[0;34m**\u001b[0m\u001b[0mkwds\u001b[0m\u001b[0;34m)\u001b[0m\u001b[0;34m\u001b[0m\u001b[0;34m\u001b[0m\u001b[0m\n\u001b[0m\u001b[1;32m   1868\u001b[0m         if (X is Y or Y is None) and PAIRWISE_DISTANCE_FUNCTIONS.get(\n\u001b[1;32m   1869\u001b[0m             \u001b[0mmetric\u001b[0m\u001b[0;34m,\u001b[0m \u001b[0;32mNone\u001b[0m\u001b[0;34m\u001b[0m\u001b[0;34m\u001b[0m\u001b[0m\n",
            "\u001b[0;32m/usr/local/lib/python3.10/dist-packages/sklearn/metrics/pairwise.py\u001b[0m in \u001b[0;36mpairwise_distances\u001b[0;34m(X, Y, metric, n_jobs, force_all_finite, **kwds)\u001b[0m\n\u001b[1;32m   2037\u001b[0m         \u001b[0mfunc\u001b[0m \u001b[0;34m=\u001b[0m \u001b[0mpartial\u001b[0m\u001b[0;34m(\u001b[0m\u001b[0mdistance\u001b[0m\u001b[0;34m.\u001b[0m\u001b[0mcdist\u001b[0m\u001b[0;34m,\u001b[0m \u001b[0mmetric\u001b[0m\u001b[0;34m=\u001b[0m\u001b[0mmetric\u001b[0m\u001b[0;34m,\u001b[0m \u001b[0;34m**\u001b[0m\u001b[0mkwds\u001b[0m\u001b[0;34m)\u001b[0m\u001b[0;34m\u001b[0m\u001b[0;34m\u001b[0m\u001b[0m\n\u001b[1;32m   2038\u001b[0m \u001b[0;34m\u001b[0m\u001b[0m\n\u001b[0;32m-> 2039\u001b[0;31m     \u001b[0;32mreturn\u001b[0m \u001b[0m_parallel_pairwise\u001b[0m\u001b[0;34m(\u001b[0m\u001b[0mX\u001b[0m\u001b[0;34m,\u001b[0m \u001b[0mY\u001b[0m\u001b[0;34m,\u001b[0m \u001b[0mfunc\u001b[0m\u001b[0;34m,\u001b[0m \u001b[0mn_jobs\u001b[0m\u001b[0;34m,\u001b[0m \u001b[0;34m**\u001b[0m\u001b[0mkwds\u001b[0m\u001b[0;34m)\u001b[0m\u001b[0;34m\u001b[0m\u001b[0;34m\u001b[0m\u001b[0m\n\u001b[0m\u001b[1;32m   2040\u001b[0m \u001b[0;34m\u001b[0m\u001b[0m\n\u001b[1;32m   2041\u001b[0m \u001b[0;34m\u001b[0m\u001b[0m\n",
            "\u001b[0;32m/usr/local/lib/python3.10/dist-packages/sklearn/metrics/pairwise.py\u001b[0m in \u001b[0;36m_parallel_pairwise\u001b[0;34m(X, Y, func, n_jobs, **kwds)\u001b[0m\n\u001b[1;32m   1577\u001b[0m \u001b[0;34m\u001b[0m\u001b[0m\n\u001b[1;32m   1578\u001b[0m     \u001b[0;32mif\u001b[0m \u001b[0meffective_n_jobs\u001b[0m\u001b[0;34m(\u001b[0m\u001b[0mn_jobs\u001b[0m\u001b[0;34m)\u001b[0m \u001b[0;34m==\u001b[0m \u001b[0;36m1\u001b[0m\u001b[0;34m:\u001b[0m\u001b[0;34m\u001b[0m\u001b[0;34m\u001b[0m\u001b[0m\n\u001b[0;32m-> 1579\u001b[0;31m         \u001b[0;32mreturn\u001b[0m \u001b[0mfunc\u001b[0m\u001b[0;34m(\u001b[0m\u001b[0mX\u001b[0m\u001b[0;34m,\u001b[0m \u001b[0mY\u001b[0m\u001b[0;34m,\u001b[0m \u001b[0;34m**\u001b[0m\u001b[0mkwds\u001b[0m\u001b[0;34m)\u001b[0m\u001b[0;34m\u001b[0m\u001b[0;34m\u001b[0m\u001b[0m\n\u001b[0m\u001b[1;32m   1580\u001b[0m \u001b[0;34m\u001b[0m\u001b[0m\n\u001b[1;32m   1581\u001b[0m     \u001b[0;31m# enforce a threading backend to prevent data communication overhead\u001b[0m\u001b[0;34m\u001b[0m\u001b[0;34m\u001b[0m\u001b[0m\n",
            "\u001b[0;32m/usr/local/lib/python3.10/dist-packages/scipy/spatial/distance.py\u001b[0m in \u001b[0;36mcdist\u001b[0;34m(XA, XB, metric, out, **kwargs)\u001b[0m\n\u001b[1;32m   3004\u001b[0m             \u001b[0mcdist_fn\u001b[0m \u001b[0;34m=\u001b[0m \u001b[0mmetric_info\u001b[0m\u001b[0;34m.\u001b[0m\u001b[0mcdist_func\u001b[0m\u001b[0;34m\u001b[0m\u001b[0;34m\u001b[0m\u001b[0m\n\u001b[1;32m   3005\u001b[0m             \u001b[0m_extra_windows_error_checks\u001b[0m\u001b[0;34m(\u001b[0m\u001b[0mXA\u001b[0m\u001b[0;34m,\u001b[0m \u001b[0mout\u001b[0m\u001b[0;34m,\u001b[0m \u001b[0;34m(\u001b[0m\u001b[0mmA\u001b[0m\u001b[0;34m,\u001b[0m \u001b[0mmB\u001b[0m\u001b[0;34m)\u001b[0m\u001b[0;34m,\u001b[0m \u001b[0;34m**\u001b[0m\u001b[0mkwargs\u001b[0m\u001b[0;34m)\u001b[0m\u001b[0;34m\u001b[0m\u001b[0;34m\u001b[0m\u001b[0m\n\u001b[0;32m-> 3006\u001b[0;31m             \u001b[0;32mreturn\u001b[0m \u001b[0mcdist_fn\u001b[0m\u001b[0;34m(\u001b[0m\u001b[0mXA\u001b[0m\u001b[0;34m,\u001b[0m \u001b[0mXB\u001b[0m\u001b[0;34m,\u001b[0m \u001b[0mout\u001b[0m\u001b[0;34m=\u001b[0m\u001b[0mout\u001b[0m\u001b[0;34m,\u001b[0m \u001b[0;34m**\u001b[0m\u001b[0mkwargs\u001b[0m\u001b[0;34m)\u001b[0m\u001b[0;34m\u001b[0m\u001b[0;34m\u001b[0m\u001b[0m\n\u001b[0m\u001b[1;32m   3007\u001b[0m         \u001b[0;32melif\u001b[0m \u001b[0mmstr\u001b[0m\u001b[0;34m.\u001b[0m\u001b[0mstartswith\u001b[0m\u001b[0;34m(\u001b[0m\u001b[0;34m\"test_\"\u001b[0m\u001b[0;34m)\u001b[0m\u001b[0;34m:\u001b[0m\u001b[0;34m\u001b[0m\u001b[0;34m\u001b[0m\u001b[0m\n\u001b[1;32m   3008\u001b[0m             \u001b[0mmetric_info\u001b[0m \u001b[0;34m=\u001b[0m \u001b[0m_TEST_METRICS\u001b[0m\u001b[0;34m.\u001b[0m\u001b[0mget\u001b[0m\u001b[0;34m(\u001b[0m\u001b[0mmstr\u001b[0m\u001b[0;34m,\u001b[0m \u001b[0;32mNone\u001b[0m\u001b[0;34m)\u001b[0m\u001b[0;34m\u001b[0m\u001b[0;34m\u001b[0m\u001b[0m\n",
            "\u001b[0;32m/usr/local/lib/python3.10/dist-packages/scipy/spatial/distance.py\u001b[0m in \u001b[0;36m__call__\u001b[0;34m(self, XA, XB, out, **kwargs)\u001b[0m\n\u001b[1;32m   1624\u001b[0m         \u001b[0;31m# get cdist wrapper\u001b[0m\u001b[0;34m\u001b[0m\u001b[0;34m\u001b[0m\u001b[0m\n\u001b[1;32m   1625\u001b[0m         \u001b[0mcdist_fn\u001b[0m \u001b[0;34m=\u001b[0m \u001b[0mgetattr\u001b[0m\u001b[0;34m(\u001b[0m\u001b[0m_distance_wrap\u001b[0m\u001b[0;34m,\u001b[0m \u001b[0;34mf'cdist_{metric_name}_{typ}_wrap'\u001b[0m\u001b[0;34m)\u001b[0m\u001b[0;34m\u001b[0m\u001b[0;34m\u001b[0m\u001b[0m\n\u001b[0;32m-> 1626\u001b[0;31m         \u001b[0mcdist_fn\u001b[0m\u001b[0;34m(\u001b[0m\u001b[0mXA\u001b[0m\u001b[0;34m,\u001b[0m \u001b[0mXB\u001b[0m\u001b[0;34m,\u001b[0m \u001b[0mdm\u001b[0m\u001b[0;34m,\u001b[0m \u001b[0;34m**\u001b[0m\u001b[0mkwargs\u001b[0m\u001b[0;34m)\u001b[0m\u001b[0;34m\u001b[0m\u001b[0;34m\u001b[0m\u001b[0m\n\u001b[0m\u001b[1;32m   1627\u001b[0m         \u001b[0;32mreturn\u001b[0m \u001b[0mdm\u001b[0m\u001b[0;34m\u001b[0m\u001b[0;34m\u001b[0m\u001b[0m\n\u001b[1;32m   1628\u001b[0m \u001b[0;34m\u001b[0m\u001b[0m\n",
            "\u001b[0;31mKeyboardInterrupt\u001b[0m: "
          ]
        }
      ],
      "source": [
        "print(f\"Silhouette Score: {silhouette_score(labse_pca, labse_mini_preds, metric='mahalanobis')}\")"
      ]
    }
  ],
  "metadata": {
    "colab": {
      "collapsed_sections": [
        "gG_dfTjhR-6w"
      ],
      "provenance": []
    },
    "kernelspec": {
      "display_name": "Python 3",
      "name": "python3"
    },
    "language_info": {
      "name": "python"
    }
  },
  "nbformat": 4,
  "nbformat_minor": 0
}